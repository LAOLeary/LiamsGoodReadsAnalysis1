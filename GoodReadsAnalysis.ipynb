{
 "cells": [
  {
   "cell_type": "markdown",
   "id": "485ba433",
   "metadata": {},
   "source": [
    "## Our objective here is to observe trends for English books"
   ]
  },
  {
   "cell_type": "code",
   "execution_count": 1,
   "id": "c3f56890",
   "metadata": {},
   "outputs": [],
   "source": [
    "import numpy as np\n",
    "import pandas as pd\n",
    "import matplotlib.pyplot as plt\n",
    "import seaborn as sns\n",
    "%matplotlib inline"
   ]
  },
  {
   "cell_type": "code",
   "execution_count": 2,
   "id": "df4013a5",
   "metadata": {},
   "outputs": [
    {
     "name": "stdout",
     "output_type": "stream",
     "text": [
      "Requirement already satisfied: pyforest in c:\\users\\liam\\anaconda3\\lib\\site-packages (1.0.3)\n",
      "Note: you may need to restart the kernel to use updated packages.\n"
     ]
    }
   ],
   "source": [
    "pip install pyforest"
   ]
  },
  {
   "cell_type": "code",
   "execution_count": 3,
   "id": "c9aa8bde",
   "metadata": {},
   "outputs": [
    {
     "name": "stdout",
     "output_type": "stream",
     "text": [
      "Requirement already satisfied: sci_analysis in c:\\users\\liam\\anaconda3\\lib\\site-packages (2.2.1)\n",
      "Requirement already satisfied: six in c:\\users\\liam\\anaconda3\\lib\\site-packages (from sci_analysis) (1.15.0)\n",
      "Requirement already satisfied: matplotlib in c:\\users\\liam\\anaconda3\\lib\\site-packages (from sci_analysis) (3.3.4)\n",
      "Requirement already satisfied: scipy in c:\\users\\liam\\anaconda3\\lib\\site-packages (from sci_analysis) (1.6.2)\n",
      "Requirement already satisfied: numpy in c:\\users\\liam\\anaconda3\\lib\\site-packages (from sci_analysis) (1.19.5)\n",
      "Requirement already satisfied: pandas in c:\\users\\liam\\anaconda3\\lib\\site-packages (from sci_analysis) (1.2.4)\n",
      "Requirement already satisfied: pillow>=6.2.0 in c:\\users\\liam\\anaconda3\\lib\\site-packages (from matplotlib->sci_analysis) (8.2.0)\n",
      "Requirement already satisfied: pyparsing!=2.0.4,!=2.1.2,!=2.1.6,>=2.0.3 in c:\\users\\liam\\anaconda3\\lib\\site-packages (from matplotlib->sci_analysis) (2.4.7)\n",
      "Requirement already satisfied: python-dateutil>=2.1 in c:\\users\\liam\\anaconda3\\lib\\site-packages (from matplotlib->sci_analysis) (2.8.1)\n",
      "Requirement already satisfied: cycler>=0.10 in c:\\users\\liam\\anaconda3\\lib\\site-packages (from matplotlib->sci_analysis) (0.10.0)\n",
      "Requirement already satisfied: kiwisolver>=1.0.1 in c:\\users\\liam\\anaconda3\\lib\\site-packages (from matplotlib->sci_analysis) (1.3.1)\n",
      "Requirement already satisfied: pytz>=2017.3 in c:\\users\\liam\\anaconda3\\lib\\site-packages (from pandas->sci_analysis) (2021.1)\n",
      "Note: you may need to restart the kernel to use updated packages.\n"
     ]
    }
   ],
   "source": [
    "pip install sci_analysis"
   ]
  },
  {
   "cell_type": "code",
   "execution_count": 4,
   "id": "a7b4bef4",
   "metadata": {},
   "outputs": [],
   "source": [
    "from datetime import datetime\n",
    "from scipy.stats import norm\n",
    "from scipy import stats\n",
    "from scipy.stats import skew\n",
    "from sci_analysis import analyze\n",
    "import matplotlib.lines as mlines\n",
    "import warnings\n",
    "warnings.filterwarnings('ignore')\n",
    "sns.set_style(\"darkgrid\", {\"axes.facecolor\": \".9\"})\n",
    "pd.options.display.float_format = '{:,.4f}'.format\n",
    "pd.set_option(\"display.max_columns\", 500)\n",
    "pd.set_option(\"display.max_rows\", 500)"
   ]
  },
  {
   "cell_type": "markdown",
   "id": "27c44a44",
   "metadata": {},
   "source": [
    "# 1. Import the data"
   ]
  },
  {
   "cell_type": "code",
   "execution_count": 5,
   "id": "5f4d6fb1",
   "metadata": {
    "scrolled": true
   },
   "outputs": [
    {
     "data": {
      "text/html": [
       "<div>\n",
       "<style scoped>\n",
       "    .dataframe tbody tr th:only-of-type {\n",
       "        vertical-align: middle;\n",
       "    }\n",
       "\n",
       "    .dataframe tbody tr th {\n",
       "        vertical-align: top;\n",
       "    }\n",
       "\n",
       "    .dataframe thead th {\n",
       "        text-align: right;\n",
       "    }\n",
       "</style>\n",
       "<table border=\"1\" class=\"dataframe\">\n",
       "  <thead>\n",
       "    <tr style=\"text-align: right;\">\n",
       "      <th></th>\n",
       "      <th>bookID</th>\n",
       "      <th>title</th>\n",
       "      <th>authors</th>\n",
       "      <th>average_rating</th>\n",
       "      <th>isbn</th>\n",
       "      <th>isbn13</th>\n",
       "      <th>language_code</th>\n",
       "      <th>num_pages</th>\n",
       "      <th>ratings_count</th>\n",
       "      <th>text_reviews_count</th>\n",
       "      <th>publication_date</th>\n",
       "      <th>publisher</th>\n",
       "      <th>Unnamed: 12</th>\n",
       "    </tr>\n",
       "  </thead>\n",
       "  <tbody>\n",
       "    <tr>\n",
       "      <th>0</th>\n",
       "      <td>1</td>\n",
       "      <td>Harry Potter and the Half-Blood Prince (Harry ...</td>\n",
       "      <td>J.K. Rowling/Mary GrandPr??</td>\n",
       "      <td>4.57</td>\n",
       "      <td>439785960</td>\n",
       "      <td>9.78044E+12</td>\n",
       "      <td>eng</td>\n",
       "      <td>652</td>\n",
       "      <td>2095690</td>\n",
       "      <td>27591</td>\n",
       "      <td>9/16/2006</td>\n",
       "      <td>Scholastic Inc.</td>\n",
       "      <td>NaN</td>\n",
       "    </tr>\n",
       "    <tr>\n",
       "      <th>1</th>\n",
       "      <td>2</td>\n",
       "      <td>Harry Potter and the Order of the Phoenix (Har...</td>\n",
       "      <td>J.K. Rowling/Mary GrandPr??</td>\n",
       "      <td>4.49</td>\n",
       "      <td>439358078</td>\n",
       "      <td>9.78044E+12</td>\n",
       "      <td>eng</td>\n",
       "      <td>870</td>\n",
       "      <td>2153167</td>\n",
       "      <td>29221</td>\n",
       "      <td>09/01/2004</td>\n",
       "      <td>Scholastic Inc.</td>\n",
       "      <td>NaN</td>\n",
       "    </tr>\n",
       "    <tr>\n",
       "      <th>2</th>\n",
       "      <td>4</td>\n",
       "      <td>Harry Potter and the Chamber of Secrets (Harry...</td>\n",
       "      <td>J.K. Rowling</td>\n",
       "      <td>4.42</td>\n",
       "      <td>439554896</td>\n",
       "      <td>9.78044E+12</td>\n",
       "      <td>eng</td>\n",
       "      <td>352</td>\n",
       "      <td>6333</td>\n",
       "      <td>244</td>\n",
       "      <td>11/01/2003</td>\n",
       "      <td>Scholastic</td>\n",
       "      <td>NaN</td>\n",
       "    </tr>\n",
       "    <tr>\n",
       "      <th>3</th>\n",
       "      <td>5</td>\n",
       "      <td>Harry Potter and the Prisoner of Azkaban (Harr...</td>\n",
       "      <td>J.K. Rowling/Mary GrandPr??</td>\n",
       "      <td>4.56</td>\n",
       "      <td>043965548X</td>\n",
       "      <td>9.78044E+12</td>\n",
       "      <td>eng</td>\n",
       "      <td>435</td>\n",
       "      <td>2339585</td>\n",
       "      <td>36325</td>\n",
       "      <td>05/01/2004</td>\n",
       "      <td>Scholastic Inc.</td>\n",
       "      <td>NaN</td>\n",
       "    </tr>\n",
       "    <tr>\n",
       "      <th>4</th>\n",
       "      <td>8</td>\n",
       "      <td>Harry Potter Boxed Set  Books 1-5 (Harry Potte...</td>\n",
       "      <td>J.K. Rowling/Mary GrandPr??</td>\n",
       "      <td>4.78</td>\n",
       "      <td>439682584</td>\n",
       "      <td>9.78044E+12</td>\n",
       "      <td>eng</td>\n",
       "      <td>2690</td>\n",
       "      <td>41428</td>\n",
       "      <td>164</td>\n",
       "      <td>9/13/2004</td>\n",
       "      <td>Scholastic</td>\n",
       "      <td>NaN</td>\n",
       "    </tr>\n",
       "  </tbody>\n",
       "</table>\n",
       "</div>"
      ],
      "text/plain": [
       "   bookID                                              title  \\\n",
       "0       1  Harry Potter and the Half-Blood Prince (Harry ...   \n",
       "1       2  Harry Potter and the Order of the Phoenix (Har...   \n",
       "2       4  Harry Potter and the Chamber of Secrets (Harry...   \n",
       "3       5  Harry Potter and the Prisoner of Azkaban (Harr...   \n",
       "4       8  Harry Potter Boxed Set  Books 1-5 (Harry Potte...   \n",
       "\n",
       "                       authors average_rating        isbn       isbn13  \\\n",
       "0  J.K. Rowling/Mary GrandPr??           4.57   439785960  9.78044E+12   \n",
       "1  J.K. Rowling/Mary GrandPr??           4.49   439358078  9.78044E+12   \n",
       "2                 J.K. Rowling           4.42   439554896  9.78044E+12   \n",
       "3  J.K. Rowling/Mary GrandPr??           4.56  043965548X  9.78044E+12   \n",
       "4  J.K. Rowling/Mary GrandPr??           4.78   439682584  9.78044E+12   \n",
       "\n",
       "  language_code   num_pages  ratings_count  text_reviews_count  \\\n",
       "0           eng         652        2095690               27591   \n",
       "1           eng         870        2153167               29221   \n",
       "2           eng         352           6333                 244   \n",
       "3           eng         435        2339585               36325   \n",
       "4           eng        2690          41428                 164   \n",
       "\n",
       "  publication_date        publisher Unnamed: 12  \n",
       "0        9/16/2006  Scholastic Inc.         NaN  \n",
       "1       09/01/2004  Scholastic Inc.         NaN  \n",
       "2       11/01/2003       Scholastic         NaN  \n",
       "3       05/01/2004  Scholastic Inc.         NaN  \n",
       "4        9/13/2004       Scholastic         NaN  "
      ]
     },
     "execution_count": 5,
     "metadata": {},
     "output_type": "execute_result"
    }
   ],
   "source": [
    "books = pd.read_csv('books2.csv')\n",
    "books.head()"
   ]
  },
  {
   "cell_type": "code",
   "execution_count": 6,
   "id": "0f0da09d",
   "metadata": {},
   "outputs": [
    {
     "name": "stdout",
     "output_type": "stream",
     "text": [
      "<class 'pandas.core.frame.DataFrame'>\n",
      "RangeIndex: 11127 entries, 0 to 11126\n",
      "Data columns (total 13 columns):\n",
      " #   Column              Non-Null Count  Dtype \n",
      "---  ------              --------------  ----- \n",
      " 0   bookID              11127 non-null  int64 \n",
      " 1   title               11127 non-null  object\n",
      " 2   authors             11127 non-null  object\n",
      " 3   average_rating      11127 non-null  object\n",
      " 4   isbn                11127 non-null  object\n",
      " 5   isbn13              11127 non-null  object\n",
      " 6   language_code       11127 non-null  object\n",
      " 7     num_pages         11127 non-null  object\n",
      " 8   ratings_count       11127 non-null  int64 \n",
      " 9   text_reviews_count  11127 non-null  int64 \n",
      " 10  publication_date    11127 non-null  object\n",
      " 11  publisher           11127 non-null  object\n",
      " 12  Unnamed: 12         4 non-null      object\n",
      "dtypes: int64(3), object(10)\n",
      "memory usage: 1.1+ MB\n"
     ]
    }
   ],
   "source": [
    "books.info()"
   ]
  },
  {
   "cell_type": "code",
   "execution_count": 7,
   "id": "58051301",
   "metadata": {},
   "outputs": [
    {
     "data": {
      "text/html": [
       "<div>\n",
       "<style scoped>\n",
       "    .dataframe tbody tr th:only-of-type {\n",
       "        vertical-align: middle;\n",
       "    }\n",
       "\n",
       "    .dataframe tbody tr th {\n",
       "        vertical-align: top;\n",
       "    }\n",
       "\n",
       "    .dataframe thead th {\n",
       "        text-align: right;\n",
       "    }\n",
       "</style>\n",
       "<table border=\"1\" class=\"dataframe\">\n",
       "  <thead>\n",
       "    <tr style=\"text-align: right;\">\n",
       "      <th></th>\n",
       "      <th>bookID</th>\n",
       "      <th>ratings_count</th>\n",
       "      <th>text_reviews_count</th>\n",
       "    </tr>\n",
       "  </thead>\n",
       "  <tbody>\n",
       "    <tr>\n",
       "      <th>count</th>\n",
       "      <td>11,127.0000</td>\n",
       "      <td>11,127.0000</td>\n",
       "      <td>11,127.0000</td>\n",
       "    </tr>\n",
       "    <tr>\n",
       "      <th>mean</th>\n",
       "      <td>21,310.9389</td>\n",
       "      <td>17,936.4902</td>\n",
       "      <td>541.8645</td>\n",
       "    </tr>\n",
       "    <tr>\n",
       "      <th>std</th>\n",
       "      <td>13,093.3580</td>\n",
       "      <td>112,479.4287</td>\n",
       "      <td>2,576.1746</td>\n",
       "    </tr>\n",
       "    <tr>\n",
       "      <th>min</th>\n",
       "      <td>1.0000</td>\n",
       "      <td>0.0000</td>\n",
       "      <td>0.0000</td>\n",
       "    </tr>\n",
       "    <tr>\n",
       "      <th>25%</th>\n",
       "      <td>10,287.0000</td>\n",
       "      <td>104.0000</td>\n",
       "      <td>9.0000</td>\n",
       "    </tr>\n",
       "    <tr>\n",
       "      <th>50%</th>\n",
       "      <td>20,287.0000</td>\n",
       "      <td>745.0000</td>\n",
       "      <td>47.0000</td>\n",
       "    </tr>\n",
       "    <tr>\n",
       "      <th>75%</th>\n",
       "      <td>32,104.5000</td>\n",
       "      <td>4,993.5000</td>\n",
       "      <td>237.5000</td>\n",
       "    </tr>\n",
       "    <tr>\n",
       "      <th>max</th>\n",
       "      <td>45,641.0000</td>\n",
       "      <td>4,597,666.0000</td>\n",
       "      <td>94,265.0000</td>\n",
       "    </tr>\n",
       "  </tbody>\n",
       "</table>\n",
       "</div>"
      ],
      "text/plain": [
       "           bookID  ratings_count  text_reviews_count\n",
       "count 11,127.0000    11,127.0000         11,127.0000\n",
       "mean  21,310.9389    17,936.4902            541.8645\n",
       "std   13,093.3580   112,479.4287          2,576.1746\n",
       "min        1.0000         0.0000              0.0000\n",
       "25%   10,287.0000       104.0000              9.0000\n",
       "50%   20,287.0000       745.0000             47.0000\n",
       "75%   32,104.5000     4,993.5000            237.5000\n",
       "max   45,641.0000 4,597,666.0000         94,265.0000"
      ]
     },
     "execution_count": 7,
     "metadata": {},
     "output_type": "execute_result"
    }
   ],
   "source": [
    "books.describe()"
   ]
  },
  {
   "cell_type": "code",
   "execution_count": 8,
   "id": "ff7d4490",
   "metadata": {},
   "outputs": [
    {
     "name": "stdout",
     "output_type": "stream",
     "text": [
      "no. of rows:  11127 \n",
      "no. of columns:  13\n"
     ]
    }
   ],
   "source": [
    "print(\"no. of rows: \",books.shape[0], \"\\n\"\"no. of columns: \",books.shape[1])"
   ]
  },
  {
   "cell_type": "code",
   "execution_count": 9,
   "id": "24829ad7",
   "metadata": {},
   "outputs": [],
   "source": [
    "booksen = books"
   ]
  },
  {
   "cell_type": "code",
   "execution_count": 10,
   "id": "a7be138a",
   "metadata": {},
   "outputs": [
    {
     "data": {
      "text/plain": [
       "<AxesSubplot:>"
      ]
     },
     "execution_count": 10,
     "metadata": {},
     "output_type": "execute_result"
    },
    {
     "data": {
      "image/png": "[encoded data removed]",
      "text/plain": [
       "<Figure size 432x288 with 1 Axes>"
      ]
     },
     "metadata": {},
     "output_type": "display_data"
    }
   ],
   "source": [
    "sns.heatmap(books.isnull(),yticklabels=False, cbar=False, cmap=\"viridis\")\n",
    "#Null values?"
   ]
  },
  {
   "cell_type": "code",
   "execution_count": 11,
   "id": "f1c46743",
   "metadata": {},
   "outputs": [],
   "source": [
    "booksen.drop(\"Unnamed: 12\",axis=1,inplace=True)"
   ]
  },
  {
   "cell_type": "code",
   "execution_count": 12,
   "id": "5786b87c",
   "metadata": {},
   "outputs": [
    {
     "data": {
      "text/plain": [
       "<AxesSubplot:>"
      ]
     },
     "execution_count": 12,
     "metadata": {},
     "output_type": "execute_result"
    },
    {
     "data": {
      "image/png": "[encoded data removed]",
      "text/plain": [
       "<Figure size 432x288 with 1 Axes>"
      ]
     },
     "metadata": {},
     "output_type": "display_data"
    }
   ],
   "source": [
    "sns.heatmap(books.isnull(),yticklabels=False, cbar=False, cmap=\"viridis\")\n",
    "#Null values?"
   ]
  },
  {
   "cell_type": "markdown",
   "id": "e7b382c4",
   "metadata": {},
   "source": [
    "# 2. Ok, Let's filter our data for english"
   ]
  },
  {
   "cell_type": "code",
   "execution_count": 13,
   "id": "8a3996d9",
   "metadata": {},
   "outputs": [
    {
     "data": {
      "text/html": [
       "<div>\n",
       "<style scoped>\n",
       "    .dataframe tbody tr th:only-of-type {\n",
       "        vertical-align: middle;\n",
       "    }\n",
       "\n",
       "    .dataframe tbody tr th {\n",
       "        vertical-align: top;\n",
       "    }\n",
       "\n",
       "    .dataframe thead th {\n",
       "        text-align: right;\n",
       "    }\n",
       "</style>\n",
       "<table border=\"1\" class=\"dataframe\">\n",
       "  <thead>\n",
       "    <tr style=\"text-align: right;\">\n",
       "      <th></th>\n",
       "      <th>language_code</th>\n",
       "      <th>Count</th>\n",
       "    </tr>\n",
       "  </thead>\n",
       "  <tbody>\n",
       "    <tr>\n",
       "      <th>0</th>\n",
       "      <td>eng</td>\n",
       "      <td>8908</td>\n",
       "    </tr>\n",
       "    <tr>\n",
       "      <th>1</th>\n",
       "      <td>en-US</td>\n",
       "      <td>1408</td>\n",
       "    </tr>\n",
       "    <tr>\n",
       "      <th>2</th>\n",
       "      <td>spa</td>\n",
       "      <td>218</td>\n",
       "    </tr>\n",
       "    <tr>\n",
       "      <th>3</th>\n",
       "      <td>en-GB</td>\n",
       "      <td>214</td>\n",
       "    </tr>\n",
       "    <tr>\n",
       "      <th>4</th>\n",
       "      <td>fre</td>\n",
       "      <td>144</td>\n",
       "    </tr>\n",
       "    <tr>\n",
       "      <th>5</th>\n",
       "      <td>ger</td>\n",
       "      <td>99</td>\n",
       "    </tr>\n",
       "    <tr>\n",
       "      <th>6</th>\n",
       "      <td>jpn</td>\n",
       "      <td>46</td>\n",
       "    </tr>\n",
       "    <tr>\n",
       "      <th>7</th>\n",
       "      <td>mul</td>\n",
       "      <td>19</td>\n",
       "    </tr>\n",
       "    <tr>\n",
       "      <th>8</th>\n",
       "      <td>zho</td>\n",
       "      <td>14</td>\n",
       "    </tr>\n",
       "    <tr>\n",
       "      <th>9</th>\n",
       "      <td>grc</td>\n",
       "      <td>11</td>\n",
       "    </tr>\n",
       "    <tr>\n",
       "      <th>10</th>\n",
       "      <td>por</td>\n",
       "      <td>10</td>\n",
       "    </tr>\n",
       "    <tr>\n",
       "      <th>11</th>\n",
       "      <td>en-CA</td>\n",
       "      <td>7</td>\n",
       "    </tr>\n",
       "    <tr>\n",
       "      <th>12</th>\n",
       "      <td>ita</td>\n",
       "      <td>5</td>\n",
       "    </tr>\n",
       "    <tr>\n",
       "      <th>13</th>\n",
       "      <td>enm</td>\n",
       "      <td>3</td>\n",
       "    </tr>\n",
       "    <tr>\n",
       "      <th>14</th>\n",
       "      <td>lat</td>\n",
       "      <td>3</td>\n",
       "    </tr>\n",
       "    <tr>\n",
       "      <th>16</th>\n",
       "      <td>swe</td>\n",
       "      <td>2</td>\n",
       "    </tr>\n",
       "    <tr>\n",
       "      <th>15</th>\n",
       "      <td>rus</td>\n",
       "      <td>2</td>\n",
       "    </tr>\n",
       "    <tr>\n",
       "      <th>17</th>\n",
       "      <td>gla</td>\n",
       "      <td>1</td>\n",
       "    </tr>\n",
       "    <tr>\n",
       "      <th>18</th>\n",
       "      <td>wel</td>\n",
       "      <td>1</td>\n",
       "    </tr>\n",
       "    <tr>\n",
       "      <th>19</th>\n",
       "      <td>srp</td>\n",
       "      <td>1</td>\n",
       "    </tr>\n",
       "    <tr>\n",
       "      <th>20</th>\n",
       "      <td>9.78159E+12</td>\n",
       "      <td>1</td>\n",
       "    </tr>\n",
       "    <tr>\n",
       "      <th>21</th>\n",
       "      <td>nl</td>\n",
       "      <td>1</td>\n",
       "    </tr>\n",
       "    <tr>\n",
       "      <th>22</th>\n",
       "      <td>9.78085E+12</td>\n",
       "      <td>1</td>\n",
       "    </tr>\n",
       "    <tr>\n",
       "      <th>23</th>\n",
       "      <td>tur</td>\n",
       "      <td>1</td>\n",
       "    </tr>\n",
       "    <tr>\n",
       "      <th>24</th>\n",
       "      <td>ara</td>\n",
       "      <td>1</td>\n",
       "    </tr>\n",
       "    <tr>\n",
       "      <th>25</th>\n",
       "      <td>9.78156E+12</td>\n",
       "      <td>1</td>\n",
       "    </tr>\n",
       "    <tr>\n",
       "      <th>26</th>\n",
       "      <td>msa</td>\n",
       "      <td>1</td>\n",
       "    </tr>\n",
       "    <tr>\n",
       "      <th>27</th>\n",
       "      <td>9.78067E+12</td>\n",
       "      <td>1</td>\n",
       "    </tr>\n",
       "    <tr>\n",
       "      <th>28</th>\n",
       "      <td>ale</td>\n",
       "      <td>1</td>\n",
       "    </tr>\n",
       "    <tr>\n",
       "      <th>29</th>\n",
       "      <td>glg</td>\n",
       "      <td>1</td>\n",
       "    </tr>\n",
       "    <tr>\n",
       "      <th>30</th>\n",
       "      <td>nor</td>\n",
       "      <td>1</td>\n",
       "    </tr>\n",
       "  </tbody>\n",
       "</table>\n",
       "</div>"
      ],
      "text/plain": [
       "   language_code  Count\n",
       "0            eng   8908\n",
       "1          en-US   1408\n",
       "2            spa    218\n",
       "3          en-GB    214\n",
       "4            fre    144\n",
       "5            ger     99\n",
       "6            jpn     46\n",
       "7            mul     19\n",
       "8            zho     14\n",
       "9            grc     11\n",
       "10           por     10\n",
       "11         en-CA      7\n",
       "12           ita      5\n",
       "13           enm      3\n",
       "14           lat      3\n",
       "16           swe      2\n",
       "15           rus      2\n",
       "17           gla      1\n",
       "18           wel      1\n",
       "19           srp      1\n",
       "20   9.78159E+12      1\n",
       "21            nl      1\n",
       "22   9.78085E+12      1\n",
       "23           tur      1\n",
       "24           ara      1\n",
       "25   9.78156E+12      1\n",
       "26           msa      1\n",
       "27   9.78067E+12      1\n",
       "28           ale      1\n",
       "29           glg      1\n",
       "30           nor      1"
      ]
     },
     "execution_count": 13,
     "metadata": {},
     "output_type": "execute_result"
    }
   ],
   "source": [
    "most_readlang = books.language_code.value_counts().to_frame().reset_index()\n",
    "most_readlang.rename(columns={'language_code':'Count','index':'language_code'},inplace=True)\n",
    "#most_readlang = most_readlang.iloc[:10,:]\n",
    "most_readlang.sort_values(by='Count',ascending=False)"
   ]
  },
  {
   "cell_type": "code",
   "execution_count": 14,
   "id": "b85c2fc1",
   "metadata": {},
   "outputs": [],
   "source": [
    "booksen = books[(books.language_code == 'eng') | (books.language_code == 'en-US') | (books.language_code == 'en-GB') | (books.language_code == 'en-CA')]"
   ]
  },
  {
   "cell_type": "code",
   "execution_count": 15,
   "id": "22148a21",
   "metadata": {},
   "outputs": [
    {
     "name": "stdout",
     "output_type": "stream",
     "text": [
      "<class 'pandas.core.frame.DataFrame'>\n",
      "Int64Index: 10537 entries, 0 to 11125\n",
      "Data columns (total 12 columns):\n",
      " #   Column              Non-Null Count  Dtype \n",
      "---  ------              --------------  ----- \n",
      " 0   bookID              10537 non-null  int64 \n",
      " 1   title               10537 non-null  object\n",
      " 2   authors             10537 non-null  object\n",
      " 3   average_rating      10537 non-null  object\n",
      " 4   isbn                10537 non-null  object\n",
      " 5   isbn13              10537 non-null  object\n",
      " 6   language_code       10537 non-null  object\n",
      " 7     num_pages         10537 non-null  object\n",
      " 8   ratings_count       10537 non-null  int64 \n",
      " 9   text_reviews_count  10537 non-null  int64 \n",
      " 10  publication_date    10537 non-null  object\n",
      " 11  publisher           10537 non-null  object\n",
      "dtypes: int64(3), object(9)\n",
      "memory usage: 1.0+ MB\n"
     ]
    }
   ],
   "source": [
    "booksen.info()"
   ]
  },
  {
   "cell_type": "markdown",
   "id": "8f769900",
   "metadata": {},
   "source": [
    "# 3 Data Cleaning"
   ]
  },
  {
   "cell_type": "markdown",
   "id": "ecae0ec7",
   "metadata": {},
   "source": [
    "Ok, so now we have all the English books, time to filter it for our task."
   ]
  },
  {
   "cell_type": "code",
   "execution_count": 16,
   "id": "1a784031",
   "metadata": {},
   "outputs": [],
   "source": [
    "#Fix column name\n",
    "booksen.rename(columns={'  num_pages': 'num_pages'},inplace=True)\n",
    "booksen[\"average_rating\"] = booksen.average_rating.astype(float)\n",
    "booksen[\"num_pages\"] = booksen.num_pages.astype(int)"
   ]
  },
  {
   "cell_type": "code",
   "execution_count": 17,
   "id": "e69cc631",
   "metadata": {},
   "outputs": [
    {
     "name": "stdout",
     "output_type": "stream",
     "text": [
      "<class 'pandas.core.frame.DataFrame'>\n",
      "Int64Index: 10537 entries, 0 to 11125\n",
      "Data columns (total 12 columns):\n",
      " #   Column              Non-Null Count  Dtype  \n",
      "---  ------              --------------  -----  \n",
      " 0   bookID              10537 non-null  int64  \n",
      " 1   title               10537 non-null  object \n",
      " 2   authors             10537 non-null  object \n",
      " 3   average_rating      10537 non-null  float64\n",
      " 4   isbn                10537 non-null  object \n",
      " 5   isbn13              10537 non-null  object \n",
      " 6   language_code       10537 non-null  object \n",
      " 7   num_pages           10537 non-null  int32  \n",
      " 8   ratings_count       10537 non-null  int64  \n",
      " 9   text_reviews_count  10537 non-null  int64  \n",
      " 10  publication_date    10537 non-null  object \n",
      " 11  publisher           10537 non-null  object \n",
      "dtypes: float64(1), int32(1), int64(3), object(7)\n",
      "memory usage: 1.0+ MB\n"
     ]
    }
   ],
   "source": [
    "booksen.info()"
   ]
  },
  {
   "cell_type": "markdown",
   "id": "51c80d10",
   "metadata": {},
   "source": [
    "## We don't need these columns so drop them now."
   ]
  },
  {
   "cell_type": "code",
   "execution_count": 18,
   "id": "b394ab2b",
   "metadata": {},
   "outputs": [],
   "source": [
    "booksen.drop(\"publisher\",axis=1,inplace=True)\n",
    "booksen.drop(\"language_code\",axis=1,inplace=True)\n",
    "booksen.drop(\"isbn\",axis=1,inplace=True)\n",
    "booksen.drop(\"isbn13\",axis=1,inplace=True)"
   ]
  },
  {
   "cell_type": "code",
   "execution_count": 19,
   "id": "ff3fd6bf",
   "metadata": {},
   "outputs": [],
   "source": [
    "booksen.drop(\"bookID\",axis=1,inplace=True)"
   ]
  },
  {
   "cell_type": "code",
   "execution_count": 20,
   "id": "6f0ebbd6",
   "metadata": {
    "scrolled": true
   },
   "outputs": [
    {
     "name": "stdout",
     "output_type": "stream",
     "text": [
      "<class 'pandas.core.frame.DataFrame'>\n",
      "Int64Index: 10537 entries, 0 to 11125\n",
      "Data columns (total 7 columns):\n",
      " #   Column              Non-Null Count  Dtype  \n",
      "---  ------              --------------  -----  \n",
      " 0   title               10537 non-null  object \n",
      " 1   authors             10537 non-null  object \n",
      " 2   average_rating      10537 non-null  float64\n",
      " 3   num_pages           10537 non-null  int32  \n",
      " 4   ratings_count       10537 non-null  int64  \n",
      " 5   text_reviews_count  10537 non-null  int64  \n",
      " 6   publication_date    10537 non-null  object \n",
      "dtypes: float64(1), int32(1), int64(2), object(3)\n",
      "memory usage: 617.4+ KB\n"
     ]
    }
   ],
   "source": [
    "booksen.info()"
   ]
  },
  {
   "cell_type": "markdown",
   "id": "d9022da1",
   "metadata": {},
   "source": [
    "# Now let's inspect the data, and then remove some of the bad data"
   ]
  },
  {
   "cell_type": "code",
   "execution_count": 21,
   "id": "095a0acc",
   "metadata": {},
   "outputs": [
    {
     "data": {
      "text/plain": [
       "<seaborn.axisgrid.PairGrid at 0x1a3e61fbee0>"
      ]
     },
     "execution_count": 21,
     "metadata": {},
     "output_type": "execute_result"
    },
    {
     "data": {
      "image/png": "[encoded data removed]",
      "text/plain": [
       "<Figure size 720x720 with 20 Axes>"
      ]
     },
     "metadata": {},
     "output_type": "display_data"
    }
   ],
   "source": [
    "sns.pairplot(booksen)"
   ]
  },
  {
   "cell_type": "code",
   "execution_count": 22,
   "id": "0dbd04e3",
   "metadata": {},
   "outputs": [
    {
     "data": {
      "text/plain": [
       "<AxesSubplot:>"
      ]
     },
     "execution_count": 22,
     "metadata": {},
     "output_type": "execute_result"
    },
    {
     "data": {
      "image/png": "[encoded data removed]",
      "text/plain": [
       "<Figure size 432x288 with 2 Axes>"
      ]
     },
     "metadata": {},
     "output_type": "display_data"
    }
   ],
   "source": [
    "sns.heatmap(booksen.corr(), annot=True)"
   ]
  },
  {
   "cell_type": "markdown",
   "id": "f6fb576b",
   "metadata": {},
   "source": [
    "## Ok, time to clean bad data!"
   ]
  },
  {
   "cell_type": "code",
   "execution_count": 23,
   "id": "9cef913a",
   "metadata": {},
   "outputs": [
    {
     "name": "stdout",
     "output_type": "stream",
     "text": [
      "\n",
      "Books with authors name as `NOT A BOOK`: 0\n"
     ]
    }
   ],
   "source": [
    "#Remove notabooks\n",
    "booksen = booksen[booksen['authors']!='NOT A BOOK']\n",
    "print('\\nBooks with authors name as `NOT A BOOK`:',len(booksen[booksen['authors']=='NOT A BOOK']))"
   ]
  },
  {
   "cell_type": "code",
   "execution_count": 24,
   "id": "8491a701",
   "metadata": {},
   "outputs": [
    {
     "name": "stdout",
     "output_type": "stream",
     "text": [
      "\n",
      "Books with less than 30 = 0: 0\n"
     ]
    }
   ],
   "source": [
    "#Removing books with less than 30 pages\n",
    "booksen = booksen[booksen['num_pages'] > 30]\n",
    "print('\\nBooks with less than 30 = 0:',len(booksen[booksen['num_pages'] < 30]))\n"
   ]
  },
  {
   "cell_type": "code",
   "execution_count": 25,
   "id": "16ef3ea3",
   "metadata": {},
   "outputs": [
    {
     "name": "stdout",
     "output_type": "stream",
     "text": [
      "\n",
      "Books with 0 ratings = 0: 0\n"
     ]
    }
   ],
   "source": [
    "#Removing unread books\n",
    "booksen = booksen[booksen['average_rating'] != 0]\n",
    "print('\\nBooks with 0 ratings = 0:',len(booksen[booksen['average_rating'] == 0]))\n"
   ]
  },
  {
   "cell_type": "code",
   "execution_count": 26,
   "id": "eb84df0b",
   "metadata": {},
   "outputs": [
    {
     "name": "stdout",
     "output_type": "stream",
     "text": [
      "\n",
      "Books with 0 reviews = 0: 416\n"
     ]
    }
   ],
   "source": [
    "#Removing unreviewed books\n",
    "print('\\nBooks with 0 reviews = 0:',len(booksen[booksen['text_reviews_count'] == 0]))\n",
    "booksen = booksen[booksen['text_reviews_count'] != 0]"
   ]
  },
  {
   "cell_type": "code",
   "execution_count": 27,
   "id": "04896181",
   "metadata": {},
   "outputs": [
    {
     "name": "stdout",
     "output_type": "stream",
     "text": [
      "<class 'pandas.core.frame.DataFrame'>\n",
      "Int64Index: 9798 entries, 0 to 11125\n",
      "Data columns (total 7 columns):\n",
      " #   Column              Non-Null Count  Dtype  \n",
      "---  ------              --------------  -----  \n",
      " 0   title               9798 non-null   object \n",
      " 1   authors             9798 non-null   object \n",
      " 2   average_rating      9798 non-null   float64\n",
      " 3   num_pages           9798 non-null   int32  \n",
      " 4   ratings_count       9798 non-null   int64  \n",
      " 5   text_reviews_count  9798 non-null   int64  \n",
      " 6   publication_date    9798 non-null   object \n",
      "dtypes: float64(1), int32(1), int64(2), object(3)\n",
      "memory usage: 574.1+ KB\n"
     ]
    }
   ],
   "source": [
    "booksen.info()"
   ]
  },
  {
   "cell_type": "code",
   "execution_count": 28,
   "id": "f331c9c4",
   "metadata": {},
   "outputs": [
    {
     "name": "stdout",
     "output_type": "stream",
     "text": [
      "Books removed = 734\n"
     ]
    }
   ],
   "source": [
    "#From first analysis\n",
    "removed = 10532-9798 \n",
    "print ('Books removed =', removed)"
   ]
  },
  {
   "cell_type": "markdown",
   "id": "07d4497b",
   "metadata": {},
   "source": [
    "## 4. Renovating Data"
   ]
  },
  {
   "cell_type": "code",
   "execution_count": 29,
   "id": "65eefd39",
   "metadata": {},
   "outputs": [
    {
     "data": {
      "text/html": [
       "<div>\n",
       "<style scoped>\n",
       "    .dataframe tbody tr th:only-of-type {\n",
       "        vertical-align: middle;\n",
       "    }\n",
       "\n",
       "    .dataframe tbody tr th {\n",
       "        vertical-align: top;\n",
       "    }\n",
       "\n",
       "    .dataframe thead th {\n",
       "        text-align: right;\n",
       "    }\n",
       "</style>\n",
       "<table border=\"1\" class=\"dataframe\">\n",
       "  <thead>\n",
       "    <tr style=\"text-align: right;\">\n",
       "      <th></th>\n",
       "      <th>title</th>\n",
       "      <th>authors</th>\n",
       "      <th>average_rating</th>\n",
       "      <th>num_pages</th>\n",
       "      <th>ratings_count</th>\n",
       "      <th>text_reviews_count</th>\n",
       "      <th>publication_date</th>\n",
       "    </tr>\n",
       "  </thead>\n",
       "  <tbody>\n",
       "    <tr>\n",
       "      <th>0</th>\n",
       "      <td>Harry Potter and the Half-Blood Prince (Harry ...</td>\n",
       "      <td>J.K. Rowling/Mary GrandPr??</td>\n",
       "      <td>4.5700</td>\n",
       "      <td>652</td>\n",
       "      <td>2095690</td>\n",
       "      <td>27591</td>\n",
       "      <td>9/16/2006</td>\n",
       "    </tr>\n",
       "    <tr>\n",
       "      <th>1</th>\n",
       "      <td>Harry Potter and the Order of the Phoenix (Har...</td>\n",
       "      <td>J.K. Rowling/Mary GrandPr??</td>\n",
       "      <td>4.4900</td>\n",
       "      <td>870</td>\n",
       "      <td>2153167</td>\n",
       "      <td>29221</td>\n",
       "      <td>09/01/2004</td>\n",
       "    </tr>\n",
       "    <tr>\n",
       "      <th>2</th>\n",
       "      <td>Harry Potter and the Chamber of Secrets (Harry...</td>\n",
       "      <td>J.K. Rowling</td>\n",
       "      <td>4.4200</td>\n",
       "      <td>352</td>\n",
       "      <td>6333</td>\n",
       "      <td>244</td>\n",
       "      <td>11/01/2003</td>\n",
       "    </tr>\n",
       "    <tr>\n",
       "      <th>3</th>\n",
       "      <td>Harry Potter and the Prisoner of Azkaban (Harr...</td>\n",
       "      <td>J.K. Rowling/Mary GrandPr??</td>\n",
       "      <td>4.5600</td>\n",
       "      <td>435</td>\n",
       "      <td>2339585</td>\n",
       "      <td>36325</td>\n",
       "      <td>05/01/2004</td>\n",
       "    </tr>\n",
       "    <tr>\n",
       "      <th>4</th>\n",
       "      <td>Harry Potter Boxed Set  Books 1-5 (Harry Potte...</td>\n",
       "      <td>J.K. Rowling/Mary GrandPr??</td>\n",
       "      <td>4.7800</td>\n",
       "      <td>2690</td>\n",
       "      <td>41428</td>\n",
       "      <td>164</td>\n",
       "      <td>9/13/2004</td>\n",
       "    </tr>\n",
       "  </tbody>\n",
       "</table>\n",
       "</div>"
      ],
      "text/plain": [
       "                                               title  \\\n",
       "0  Harry Potter and the Half-Blood Prince (Harry ...   \n",
       "1  Harry Potter and the Order of the Phoenix (Har...   \n",
       "2  Harry Potter and the Chamber of Secrets (Harry...   \n",
       "3  Harry Potter and the Prisoner of Azkaban (Harr...   \n",
       "4  Harry Potter Boxed Set  Books 1-5 (Harry Potte...   \n",
       "\n",
       "                       authors  average_rating  num_pages  ratings_count  \\\n",
       "0  J.K. Rowling/Mary GrandPr??          4.5700        652        2095690   \n",
       "1  J.K. Rowling/Mary GrandPr??          4.4900        870        2153167   \n",
       "2                 J.K. Rowling          4.4200        352           6333   \n",
       "3  J.K. Rowling/Mary GrandPr??          4.5600        435        2339585   \n",
       "4  J.K. Rowling/Mary GrandPr??          4.7800       2690          41428   \n",
       "\n",
       "   text_reviews_count publication_date  \n",
       "0               27591        9/16/2006  \n",
       "1               29221       09/01/2004  \n",
       "2                 244       11/01/2003  \n",
       "3               36325       05/01/2004  \n",
       "4                 164        9/13/2004  "
      ]
     },
     "execution_count": 29,
     "metadata": {},
     "output_type": "execute_result"
    }
   ],
   "source": [
    "booksen.head(5)"
   ]
  },
  {
   "cell_type": "code",
   "execution_count": 30,
   "id": "56928ac8",
   "metadata": {},
   "outputs": [
    {
     "data": {
      "text/plain": [
       "title                  object\n",
       "authors                object\n",
       "average_rating        float64\n",
       "num_pages               int32\n",
       "ratings_count           int64\n",
       "text_reviews_count      int64\n",
       "publication_date       object\n",
       "dtype: object"
      ]
     },
     "execution_count": 30,
     "metadata": {},
     "output_type": "execute_result"
    }
   ],
   "source": [
    "booksen.dtypes"
   ]
  },
  {
   "cell_type": "markdown",
   "id": "d6610af8",
   "metadata": {},
   "source": [
    "Adding a cool category System"
   ]
  },
  {
   "cell_type": "code",
   "execution_count": 31,
   "id": "0901802f",
   "metadata": {},
   "outputs": [],
   "source": [
    "def create_cat(i):\n",
    "    if i >= 0 and i <=1:\n",
    "        return '0-1'\n",
    "    if i >= 1 and i <=2:\n",
    "        return '1-2'\n",
    "    if i >= 2 and i <=3:\n",
    "        return '2-3'\n",
    "    if i >= 3 and i <=4:\n",
    "        return '3-4'\n",
    "    if i >= 4 and i <=5:\n",
    "        return '4-5'"
   ]
  },
  {
   "cell_type": "code",
   "execution_count": 32,
   "id": "08719913",
   "metadata": {},
   "outputs": [
    {
     "data": {
      "text/html": [
       "<div>\n",
       "<style scoped>\n",
       "    .dataframe tbody tr th:only-of-type {\n",
       "        vertical-align: middle;\n",
       "    }\n",
       "\n",
       "    .dataframe tbody tr th {\n",
       "        vertical-align: top;\n",
       "    }\n",
       "\n",
       "    .dataframe thead th {\n",
       "        text-align: right;\n",
       "    }\n",
       "</style>\n",
       "<table border=\"1\" class=\"dataframe\">\n",
       "  <thead>\n",
       "    <tr style=\"text-align: right;\">\n",
       "      <th></th>\n",
       "      <th>title</th>\n",
       "      <th>authors</th>\n",
       "      <th>average_rating</th>\n",
       "      <th>num_pages</th>\n",
       "      <th>ratings_count</th>\n",
       "      <th>text_reviews_count</th>\n",
       "      <th>publication_date</th>\n",
       "      <th>avg_ratings</th>\n",
       "    </tr>\n",
       "  </thead>\n",
       "  <tbody>\n",
       "    <tr>\n",
       "      <th>0</th>\n",
       "      <td>Harry Potter and the Half-Blood Prince (Harry ...</td>\n",
       "      <td>J.K. Rowling/Mary GrandPr??</td>\n",
       "      <td>4.5700</td>\n",
       "      <td>652</td>\n",
       "      <td>2095690</td>\n",
       "      <td>27591</td>\n",
       "      <td>9/16/2006</td>\n",
       "      <td>4-5</td>\n",
       "    </tr>\n",
       "    <tr>\n",
       "      <th>1</th>\n",
       "      <td>Harry Potter and the Order of the Phoenix (Har...</td>\n",
       "      <td>J.K. Rowling/Mary GrandPr??</td>\n",
       "      <td>4.4900</td>\n",
       "      <td>870</td>\n",
       "      <td>2153167</td>\n",
       "      <td>29221</td>\n",
       "      <td>09/01/2004</td>\n",
       "      <td>4-5</td>\n",
       "    </tr>\n",
       "    <tr>\n",
       "      <th>2</th>\n",
       "      <td>Harry Potter and the Chamber of Secrets (Harry...</td>\n",
       "      <td>J.K. Rowling</td>\n",
       "      <td>4.4200</td>\n",
       "      <td>352</td>\n",
       "      <td>6333</td>\n",
       "      <td>244</td>\n",
       "      <td>11/01/2003</td>\n",
       "      <td>4-5</td>\n",
       "    </tr>\n",
       "  </tbody>\n",
       "</table>\n",
       "</div>"
      ],
      "text/plain": [
       "                                               title  \\\n",
       "0  Harry Potter and the Half-Blood Prince (Harry ...   \n",
       "1  Harry Potter and the Order of the Phoenix (Har...   \n",
       "2  Harry Potter and the Chamber of Secrets (Harry...   \n",
       "\n",
       "                       authors  average_rating  num_pages  ratings_count  \\\n",
       "0  J.K. Rowling/Mary GrandPr??          4.5700        652        2095690   \n",
       "1  J.K. Rowling/Mary GrandPr??          4.4900        870        2153167   \n",
       "2                 J.K. Rowling          4.4200        352           6333   \n",
       "\n",
       "   text_reviews_count publication_date avg_ratings  \n",
       "0               27591        9/16/2006         4-5  \n",
       "1               29221       09/01/2004         4-5  \n",
       "2                 244       11/01/2003         4-5  "
      ]
     },
     "execution_count": 32,
     "metadata": {},
     "output_type": "execute_result"
    }
   ],
   "source": [
    "booksen['avg_ratings'] = booksen['average_rating'].apply(create_cat)\n",
    "booksen.head(3)"
   ]
  },
  {
   "cell_type": "code",
   "execution_count": 33,
   "id": "c855bc93",
   "metadata": {},
   "outputs": [
    {
     "data": {
      "text/plain": [
       "<AxesSubplot:xlabel='average_rating', ylabel='Density'>"
      ]
     },
     "execution_count": 33,
     "metadata": {},
     "output_type": "execute_result"
    },
    {
     "data": {
      "image/png": "[encoded data removed]",
      "text/plain": [
       "<Figure size 432x288 with 1 Axes>"
      ]
     },
     "metadata": {},
     "output_type": "display_data"
    }
   ],
   "source": [
    "sns.distplot(booksen[\"average_rating\"], kde = True, bins=200)\n",
    "#what are these 0 books"
   ]
  },
  {
   "cell_type": "code",
   "execution_count": 34,
   "id": "e7d84412",
   "metadata": {},
   "outputs": [
    {
     "data": {
      "text/plain": [
       "<AxesSubplot:>"
      ]
     },
     "execution_count": 34,
     "metadata": {},
     "output_type": "execute_result"
    },
    {
     "data": {
      "image/png": "[encoded data removed]",
      "text/plain": [
       "<Figure size 432x288 with 2 Axes>"
      ]
     },
     "metadata": {},
     "output_type": "display_data"
    }
   ],
   "source": [
    "sns.heatmap(booksen.corr(), annot=True, cmap='coolwarm' , linecolor='black', linewidth='1')"
   ]
  },
  {
   "cell_type": "code",
   "execution_count": 35,
   "id": "426a950c",
   "metadata": {},
   "outputs": [
    {
     "data": {
      "text/html": [
       "<div>\n",
       "<style scoped>\n",
       "    .dataframe tbody tr th:only-of-type {\n",
       "        vertical-align: middle;\n",
       "    }\n",
       "\n",
       "    .dataframe tbody tr th {\n",
       "        vertical-align: top;\n",
       "    }\n",
       "\n",
       "    .dataframe thead th {\n",
       "        text-align: right;\n",
       "    }\n",
       "</style>\n",
       "<table border=\"1\" class=\"dataframe\">\n",
       "  <thead>\n",
       "    <tr style=\"text-align: right;\">\n",
       "      <th></th>\n",
       "      <th>average_rating</th>\n",
       "      <th>num_pages</th>\n",
       "      <th>ratings_count</th>\n",
       "      <th>text_reviews_count</th>\n",
       "    </tr>\n",
       "  </thead>\n",
       "  <tbody>\n",
       "    <tr>\n",
       "      <th>average_rating</th>\n",
       "      <td>0.0000</td>\n",
       "      <td>0.0000</td>\n",
       "      <td>0.0000</td>\n",
       "      <td>0.0001</td>\n",
       "    </tr>\n",
       "    <tr>\n",
       "      <th>num_pages</th>\n",
       "      <td>0.0000</td>\n",
       "      <td>0.0000</td>\n",
       "      <td>0.0051</td>\n",
       "      <td>0.0041</td>\n",
       "    </tr>\n",
       "    <tr>\n",
       "      <th>ratings_count</th>\n",
       "      <td>0.0000</td>\n",
       "      <td>0.0051</td>\n",
       "      <td>0.0000</td>\n",
       "      <td>0.0000</td>\n",
       "    </tr>\n",
       "    <tr>\n",
       "      <th>text_reviews_count</th>\n",
       "      <td>0.0001</td>\n",
       "      <td>0.0041</td>\n",
       "      <td>0.0000</td>\n",
       "      <td>0.0000</td>\n",
       "    </tr>\n",
       "  </tbody>\n",
       "</table>\n",
       "</div>"
      ],
      "text/plain": [
       "                   average_rating num_pages ratings_count text_reviews_count\n",
       "average_rating             0.0000    0.0000        0.0000             0.0001\n",
       "num_pages                  0.0000    0.0000        0.0051             0.0041\n",
       "ratings_count              0.0000    0.0051        0.0000             0.0000\n",
       "text_reviews_count         0.0001    0.0041        0.0000             0.0000"
      ]
     },
     "execution_count": 35,
     "metadata": {},
     "output_type": "execute_result"
    }
   ],
   "source": [
    "from scipy.stats import pearsonr\n",
    "import pandas as pd\n",
    "\n",
    "def calculate_pvalues(df):\n",
    "    df = df.dropna()._get_numeric_data()\n",
    "    dfcols = pd.DataFrame(columns=df.columns)\n",
    "    pvalues = dfcols.transpose().join(dfcols, how='outer')\n",
    "    for r in df.columns:\n",
    "        for c in df.columns:\n",
    "            pvalues[r][c] = round(pearsonr(df[r], df[c])[1], 4)\n",
    "    return pvalues\n",
    "\n",
    "\n",
    "calculate_pvalues(booksen) "
   ]
  },
  {
   "cell_type": "markdown",
   "id": "8a953df6",
   "metadata": {},
   "source": [
    "### So it looks like all columns correlate with each other?"
   ]
  },
  {
   "cell_type": "code",
   "execution_count": 36,
   "id": "164e155a",
   "metadata": {},
   "outputs": [
    {
     "data": {
      "text/html": [
       "<div>\n",
       "<style scoped>\n",
       "    .dataframe tbody tr th:only-of-type {\n",
       "        vertical-align: middle;\n",
       "    }\n",
       "\n",
       "    .dataframe tbody tr th {\n",
       "        vertical-align: top;\n",
       "    }\n",
       "\n",
       "    .dataframe thead th {\n",
       "        text-align: right;\n",
       "    }\n",
       "</style>\n",
       "<table border=\"1\" class=\"dataframe\">\n",
       "  <thead>\n",
       "    <tr style=\"text-align: right;\">\n",
       "      <th></th>\n",
       "      <th>average_rating</th>\n",
       "      <th>num_pages</th>\n",
       "      <th>ratings_count</th>\n",
       "      <th>text_reviews_count</th>\n",
       "    </tr>\n",
       "  </thead>\n",
       "  <tbody>\n",
       "    <tr>\n",
       "      <th>average_rating</th>\n",
       "      <td>0.0000</td>\n",
       "      <td>0.0000</td>\n",
       "      <td>0.0000</td>\n",
       "      <td>0.0001</td>\n",
       "    </tr>\n",
       "    <tr>\n",
       "      <th>num_pages</th>\n",
       "      <td>0.0000</td>\n",
       "      <td>0.0000</td>\n",
       "      <td>0.0051</td>\n",
       "      <td>0.0041</td>\n",
       "    </tr>\n",
       "    <tr>\n",
       "      <th>ratings_count</th>\n",
       "      <td>0.0000</td>\n",
       "      <td>0.0051</td>\n",
       "      <td>0.0000</td>\n",
       "      <td>0.0000</td>\n",
       "    </tr>\n",
       "    <tr>\n",
       "      <th>text_reviews_count</th>\n",
       "      <td>0.0001</td>\n",
       "      <td>0.0041</td>\n",
       "      <td>0.0000</td>\n",
       "      <td>0.0000</td>\n",
       "    </tr>\n",
       "  </tbody>\n",
       "</table>\n",
       "</div>"
      ],
      "text/plain": [
       "                   average_rating num_pages ratings_count text_reviews_count\n",
       "average_rating             0.0000    0.0000        0.0000             0.0001\n",
       "num_pages                  0.0000    0.0000        0.0051             0.0041\n",
       "ratings_count              0.0000    0.0051        0.0000             0.0000\n",
       "text_reviews_count         0.0001    0.0041        0.0000             0.0000"
      ]
     },
     "execution_count": 36,
     "metadata": {},
     "output_type": "execute_result"
    }
   ],
   "source": [
    "calculate_pvalues(booksen) "
   ]
  },
  {
   "cell_type": "code",
   "execution_count": 37,
   "id": "d733b206",
   "metadata": {},
   "outputs": [
    {
     "name": "stdout",
     "output_type": "stream",
     "text": [
      "<class 'pandas.core.frame.DataFrame'>\n",
      "Int64Index: 9798 entries, 0 to 11125\n",
      "Data columns (total 8 columns):\n",
      " #   Column              Non-Null Count  Dtype  \n",
      "---  ------              --------------  -----  \n",
      " 0   title               9798 non-null   object \n",
      " 1   authors             9798 non-null   object \n",
      " 2   average_rating      9798 non-null   float64\n",
      " 3   num_pages           9798 non-null   int32  \n",
      " 4   ratings_count       9798 non-null   int64  \n",
      " 5   text_reviews_count  9798 non-null   int64  \n",
      " 6   publication_date    9798 non-null   object \n",
      " 7   avg_ratings         9798 non-null   object \n",
      "dtypes: float64(1), int32(1), int64(2), object(4)\n",
      "memory usage: 650.6+ KB\n"
     ]
    }
   ],
   "source": [
    "booksen.info()"
   ]
  },
  {
   "cell_type": "code",
   "execution_count": 38,
   "id": "c2463373",
   "metadata": {},
   "outputs": [],
   "source": [
    "i = booksen[(booksen.average_rating == 'Rawles')].index\n",
    "j = booksen[(booksen.average_rating == 'one of the founding members of this Tolkien website)/Verlyn Flieger/Turgon (=David E. Smith)')].index\n",
    "k = booksen[(booksen.average_rating == 'Jr./Sam B. Warner')].index"
   ]
  },
  {
   "cell_type": "code",
   "execution_count": 39,
   "id": "0bed90c2",
   "metadata": {
    "scrolled": true
   },
   "outputs": [
    {
     "data": {
      "text/html": [
       "<div>\n",
       "<style scoped>\n",
       "    .dataframe tbody tr th:only-of-type {\n",
       "        vertical-align: middle;\n",
       "    }\n",
       "\n",
       "    .dataframe tbody tr th {\n",
       "        vertical-align: top;\n",
       "    }\n",
       "\n",
       "    .dataframe thead th {\n",
       "        text-align: right;\n",
       "    }\n",
       "</style>\n",
       "<table border=\"1\" class=\"dataframe\">\n",
       "  <thead>\n",
       "    <tr style=\"text-align: right;\">\n",
       "      <th></th>\n",
       "      <th>title</th>\n",
       "      <th>authors</th>\n",
       "      <th>average_rating</th>\n",
       "      <th>num_pages</th>\n",
       "      <th>ratings_count</th>\n",
       "      <th>text_reviews_count</th>\n",
       "      <th>publication_date</th>\n",
       "      <th>avg_ratings</th>\n",
       "    </tr>\n",
       "  </thead>\n",
       "  <tbody>\n",
       "    <tr>\n",
       "      <th>0</th>\n",
       "      <td>Harry Potter and the Half-Blood Prince (Harry ...</td>\n",
       "      <td>J.K. Rowling/Mary GrandPr??</td>\n",
       "      <td>4.5700</td>\n",
       "      <td>652</td>\n",
       "      <td>2095690</td>\n",
       "      <td>27591</td>\n",
       "      <td>9/16/2006</td>\n",
       "      <td>4-5</td>\n",
       "    </tr>\n",
       "    <tr>\n",
       "      <th>1</th>\n",
       "      <td>Harry Potter and the Order of the Phoenix (Har...</td>\n",
       "      <td>J.K. Rowling/Mary GrandPr??</td>\n",
       "      <td>4.4900</td>\n",
       "      <td>870</td>\n",
       "      <td>2153167</td>\n",
       "      <td>29221</td>\n",
       "      <td>09/01/2004</td>\n",
       "      <td>4-5</td>\n",
       "    </tr>\n",
       "    <tr>\n",
       "      <th>2</th>\n",
       "      <td>Harry Potter and the Chamber of Secrets (Harry...</td>\n",
       "      <td>J.K. Rowling</td>\n",
       "      <td>4.4200</td>\n",
       "      <td>352</td>\n",
       "      <td>6333</td>\n",
       "      <td>244</td>\n",
       "      <td>11/01/2003</td>\n",
       "      <td>4-5</td>\n",
       "    </tr>\n",
       "    <tr>\n",
       "      <th>3</th>\n",
       "      <td>Harry Potter and the Prisoner of Azkaban (Harr...</td>\n",
       "      <td>J.K. Rowling/Mary GrandPr??</td>\n",
       "      <td>4.5600</td>\n",
       "      <td>435</td>\n",
       "      <td>2339585</td>\n",
       "      <td>36325</td>\n",
       "      <td>05/01/2004</td>\n",
       "      <td>4-5</td>\n",
       "    </tr>\n",
       "    <tr>\n",
       "      <th>4</th>\n",
       "      <td>Harry Potter Boxed Set  Books 1-5 (Harry Potte...</td>\n",
       "      <td>J.K. Rowling/Mary GrandPr??</td>\n",
       "      <td>4.7800</td>\n",
       "      <td>2690</td>\n",
       "      <td>41428</td>\n",
       "      <td>164</td>\n",
       "      <td>9/13/2004</td>\n",
       "      <td>4-5</td>\n",
       "    </tr>\n",
       "    <tr>\n",
       "      <th>...</th>\n",
       "      <td>...</td>\n",
       "      <td>...</td>\n",
       "      <td>...</td>\n",
       "      <td>...</td>\n",
       "      <td>...</td>\n",
       "      <td>...</td>\n",
       "      <td>...</td>\n",
       "      <td>...</td>\n",
       "    </tr>\n",
       "    <tr>\n",
       "      <th>11121</th>\n",
       "      <td>Whores for Gloria</td>\n",
       "      <td>William T. Vollmann</td>\n",
       "      <td>3.6900</td>\n",
       "      <td>160</td>\n",
       "      <td>932</td>\n",
       "      <td>111</td>\n",
       "      <td>02/01/1994</td>\n",
       "      <td>3-4</td>\n",
       "    </tr>\n",
       "    <tr>\n",
       "      <th>11122</th>\n",
       "      <td>Expelled from Eden: A William T. Vollmann Reader</td>\n",
       "      <td>William T. Vollmann/Larry McCaffery/Michael He...</td>\n",
       "      <td>4.0600</td>\n",
       "      <td>512</td>\n",
       "      <td>156</td>\n",
       "      <td>20</td>\n",
       "      <td>12/21/2004</td>\n",
       "      <td>4-5</td>\n",
       "    </tr>\n",
       "    <tr>\n",
       "      <th>11123</th>\n",
       "      <td>You Bright and Risen Angels</td>\n",
       "      <td>William T. Vollmann</td>\n",
       "      <td>4.0800</td>\n",
       "      <td>635</td>\n",
       "      <td>783</td>\n",
       "      <td>56</td>\n",
       "      <td>12/01/1988</td>\n",
       "      <td>4-5</td>\n",
       "    </tr>\n",
       "    <tr>\n",
       "      <th>11124</th>\n",
       "      <td>The Ice-Shirt (Seven Dreams #1)</td>\n",
       "      <td>William T. Vollmann</td>\n",
       "      <td>3.9600</td>\n",
       "      <td>415</td>\n",
       "      <td>820</td>\n",
       "      <td>95</td>\n",
       "      <td>08/01/1993</td>\n",
       "      <td>3-4</td>\n",
       "    </tr>\n",
       "    <tr>\n",
       "      <th>11125</th>\n",
       "      <td>Poor People</td>\n",
       "      <td>William T. Vollmann</td>\n",
       "      <td>3.7200</td>\n",
       "      <td>434</td>\n",
       "      <td>769</td>\n",
       "      <td>139</td>\n",
       "      <td>2/27/2007</td>\n",
       "      <td>3-4</td>\n",
       "    </tr>\n",
       "  </tbody>\n",
       "</table>\n",
       "<p>9798 rows × 8 columns</p>\n",
       "</div>"
      ],
      "text/plain": [
       "                                                   title  \\\n",
       "0      Harry Potter and the Half-Blood Prince (Harry ...   \n",
       "1      Harry Potter and the Order of the Phoenix (Har...   \n",
       "2      Harry Potter and the Chamber of Secrets (Harry...   \n",
       "3      Harry Potter and the Prisoner of Azkaban (Harr...   \n",
       "4      Harry Potter Boxed Set  Books 1-5 (Harry Potte...   \n",
       "...                                                  ...   \n",
       "11121                                  Whores for Gloria   \n",
       "11122   Expelled from Eden: A William T. Vollmann Reader   \n",
       "11123                        You Bright and Risen Angels   \n",
       "11124                    The Ice-Shirt (Seven Dreams #1)   \n",
       "11125                                        Poor People   \n",
       "\n",
       "                                                 authors  average_rating  \\\n",
       "0                            J.K. Rowling/Mary GrandPr??          4.5700   \n",
       "1                            J.K. Rowling/Mary GrandPr??          4.4900   \n",
       "2                                           J.K. Rowling          4.4200   \n",
       "3                            J.K. Rowling/Mary GrandPr??          4.5600   \n",
       "4                            J.K. Rowling/Mary GrandPr??          4.7800   \n",
       "...                                                  ...             ...   \n",
       "11121                                William T. Vollmann          3.6900   \n",
       "11122  William T. Vollmann/Larry McCaffery/Michael He...          4.0600   \n",
       "11123                                William T. Vollmann          4.0800   \n",
       "11124                                William T. Vollmann          3.9600   \n",
       "11125                                William T. Vollmann          3.7200   \n",
       "\n",
       "       num_pages  ratings_count  text_reviews_count publication_date  \\\n",
       "0            652        2095690               27591        9/16/2006   \n",
       "1            870        2153167               29221       09/01/2004   \n",
       "2            352           6333                 244       11/01/2003   \n",
       "3            435        2339585               36325       05/01/2004   \n",
       "4           2690          41428                 164        9/13/2004   \n",
       "...          ...            ...                 ...              ...   \n",
       "11121        160            932                 111       02/01/1994   \n",
       "11122        512            156                  20       12/21/2004   \n",
       "11123        635            783                  56       12/01/1988   \n",
       "11124        415            820                  95       08/01/1993   \n",
       "11125        434            769                 139        2/27/2007   \n",
       "\n",
       "      avg_ratings  \n",
       "0             4-5  \n",
       "1             4-5  \n",
       "2             4-5  \n",
       "3             4-5  \n",
       "4             4-5  \n",
       "...           ...  \n",
       "11121         3-4  \n",
       "11122         4-5  \n",
       "11123         4-5  \n",
       "11124         3-4  \n",
       "11125         3-4  \n",
       "\n",
       "[9798 rows x 8 columns]"
      ]
     },
     "execution_count": 39,
     "metadata": {},
     "output_type": "execute_result"
    }
   ],
   "source": [
    "booksen.drop(i)\n",
    "booksen.drop(j)\n",
    "booksen.drop(k)"
   ]
  },
  {
   "cell_type": "code",
   "execution_count": 40,
   "id": "dc27ebfb",
   "metadata": {},
   "outputs": [
    {
     "name": "stdout",
     "output_type": "stream",
     "text": [
      "\n",
      "\n",
      "average_rating\n"
     ]
    },
    {
     "data": {
      "image/png": "[encoded data removed]",
      "text/plain": [
       "<Figure size 360x324 with 2 Axes>"
      ]
     },
     "metadata": {},
     "output_type": "display_data"
    },
    {
     "name": "stdout",
     "output_type": "stream",
     "text": [
      "\n",
      "\n",
      "Statistics\n",
      "----------\n",
      "\n",
      "n         =  9798\n",
      "Mean      =  3.9408\n",
      "Std Dev   =  0.2825\n",
      "Std Error =  0.0029\n",
      "Skewness  = -0.5699\n",
      "Kurtosis  =  1.7860\n",
      "Maximum   =  5.0000\n",
      "75%       =  4.1300\n",
      "50%       =  3.9600\n",
      "25%       =  3.7800\n",
      "Minimum   =  1.6700\n",
      "IQR       =  0.3500\n",
      "Range     =  3.3300\n",
      "\n",
      "\n",
      "Shapiro-Wilk test for normality\n",
      "-------------------------------\n",
      "\n",
      "alpha   =  0.0500\n",
      "W value =  0.9822\n",
      "p value =  0.0000\n",
      "\n",
      "HA: Data is not normally distributed\n",
      "\n",
      "\n",
      "\n",
      "num_pages\n"
     ]
    },
    {
     "data": {
      "image/png": "[encoded data removed]",
      "text/plain": [
       "<Figure size 360x324 with 2 Axes>"
      ]
     },
     "metadata": {},
     "output_type": "display_data"
    },
    {
     "name": "stdout",
     "output_type": "stream",
     "text": [
      "\n",
      "\n",
      "Statistics\n",
      "----------\n",
      "\n",
      "n         =  9798\n",
      "Mean      =  348.1686\n",
      "Std Dev   =  239.3221\n",
      "Std Error =  2.4178\n",
      "Skewness  =  4.7453\n",
      "Kurtosis  =  71.6084\n",
      "Maximum   =  6576.0000\n",
      "75%       =  418.0000\n",
      "50%       =  304.0000\n",
      "25%       =  208.0000\n",
      "Minimum   =  31.0000\n",
      "IQR       =  210.0000\n",
      "Range     =  6545.0000\n",
      "\n",
      "\n",
      "Shapiro-Wilk test for normality\n",
      "-------------------------------\n",
      "\n",
      "alpha   =  0.0500\n",
      "W value =  0.7575\n",
      "p value =  0.0000\n",
      "\n",
      "HA: Data is not normally distributed\n",
      "\n",
      "\n",
      "\n",
      "ratings_count\n"
     ]
    },
    {
     "data": {
      "image/png": "[encoded data removed]",
      "text/plain": [
       "<Figure size 360x324 with 2 Axes>"
      ]
     },
     "metadata": {},
     "output_type": "display_data"
    },
    {
     "name": "stdout",
     "output_type": "stream",
     "text": [
      "\n",
      "\n",
      "Statistics\n",
      "----------\n",
      "\n",
      "n         =  9798\n",
      "Mean      =  20172.8950\n",
      "Std Dev   =  119546.1043\n",
      "Std Error =  1207.7213\n",
      "Skewness  =  16.6741\n",
      "Kurtosis  =  391.9148\n",
      "Maximum   =  4597666.0000\n",
      "75%       =  6269.5000\n",
      "50%       =  1097.0000\n",
      "25%       =  198.0000\n",
      "Minimum   =  1.0000\n",
      "IQR       =  6071.5000\n",
      "Range     =  4597665.0000\n",
      "\n",
      "\n",
      "Shapiro-Wilk test for normality\n",
      "-------------------------------\n",
      "\n",
      "alpha   =  0.0500\n",
      "W value =  0.1352\n",
      "p value =  0.0000\n",
      "\n",
      "HA: Data is not normally distributed\n",
      "\n",
      "\n",
      "\n",
      "text_reviews_count\n"
     ]
    },
    {
     "data": {
      "image/png": "[encoded data removed]",
      "text/plain": [
       "<Figure size 360x324 with 2 Axes>"
      ]
     },
     "metadata": {},
     "output_type": "display_data"
    },
    {
     "name": "stdout",
     "output_type": "stream",
     "text": [
      "\n",
      "\n",
      "Statistics\n",
      "----------\n",
      "\n",
      "n         =  9798\n",
      "Mean      =  610.7669\n",
      "Std Dev   =  2737.0651\n",
      "Std Error =  27.6514\n",
      "Skewness  =  15.2401\n",
      "Kurtosis  =  351.4737\n",
      "Maximum   =  94265.0000\n",
      "75%       =  294.0000\n",
      "50%       =  64.0000\n",
      "25%       =  15.0000\n",
      "Minimum   =  1.0000\n",
      "IQR       =  279.0000\n",
      "Range     =  94264.0000\n",
      "\n",
      "\n",
      "Shapiro-Wilk test for normality\n",
      "-------------------------------\n",
      "\n",
      "alpha   =  0.0500\n",
      "W value =  0.1902\n",
      "p value =  0.0000\n",
      "\n",
      "HA: Data is not normally distributed\n",
      "\n"
     ]
    }
   ],
   "source": [
    "print('\\n\\naverage_rating')\n",
    "analyze(booksen['average_rating'])\n",
    "print('\\n\\nnum_pages')\n",
    "analyze(booksen['num_pages'])\n",
    "print('\\n\\nratings_count')\n",
    "analyze(booksen['ratings_count'])\n",
    "print('\\n\\ntext_reviews_count')\n",
    "analyze(booksen['text_reviews_count'])"
   ]
  },
  {
   "cell_type": "markdown",
   "id": "85ba6831",
   "metadata": {},
   "source": [
    "# 5.1  Analysis: General Trends"
   ]
  },
  {
   "cell_type": "code",
   "execution_count": 91,
   "id": "1c3438ef",
   "metadata": {},
   "outputs": [
    {
     "data": {
      "text/html": [
       "<div>\n",
       "<style scoped>\n",
       "    .dataframe tbody tr th:only-of-type {\n",
       "        vertical-align: middle;\n",
       "    }\n",
       "\n",
       "    .dataframe tbody tr th {\n",
       "        vertical-align: top;\n",
       "    }\n",
       "\n",
       "    .dataframe thead th {\n",
       "        text-align: right;\n",
       "    }\n",
       "</style>\n",
       "<table border=\"1\" class=\"dataframe\">\n",
       "  <thead>\n",
       "    <tr style=\"text-align: right;\">\n",
       "      <th></th>\n",
       "      <th>title</th>\n",
       "      <th>authors</th>\n",
       "      <th>average_rating</th>\n",
       "      <th>num_pages</th>\n",
       "      <th>ratings_count</th>\n",
       "      <th>text_reviews_count</th>\n",
       "      <th>publication_date</th>\n",
       "      <th>avg_ratings</th>\n",
       "    </tr>\n",
       "  </thead>\n",
       "  <tbody>\n",
       "    <tr>\n",
       "      <th>0</th>\n",
       "      <td>Harry Potter and the Half-Blood Prince (Harry ...</td>\n",
       "      <td>J.K. Rowling/Mary GrandPr??</td>\n",
       "      <td>4.5700</td>\n",
       "      <td>652</td>\n",
       "      <td>2095690</td>\n",
       "      <td>27591</td>\n",
       "      <td>9/16/2006</td>\n",
       "      <td>4-5</td>\n",
       "    </tr>\n",
       "    <tr>\n",
       "      <th>1</th>\n",
       "      <td>Harry Potter and the Order of the Phoenix (Har...</td>\n",
       "      <td>J.K. Rowling/Mary GrandPr??</td>\n",
       "      <td>4.4900</td>\n",
       "      <td>870</td>\n",
       "      <td>2153167</td>\n",
       "      <td>29221</td>\n",
       "      <td>09/01/2004</td>\n",
       "      <td>4-5</td>\n",
       "    </tr>\n",
       "  </tbody>\n",
       "</table>\n",
       "</div>"
      ],
      "text/plain": [
       "                                               title  \\\n",
       "0  Harry Potter and the Half-Blood Prince (Harry ...   \n",
       "1  Harry Potter and the Order of the Phoenix (Har...   \n",
       "\n",
       "                       authors  average_rating  num_pages  ratings_count  \\\n",
       "0  J.K. Rowling/Mary GrandPr??          4.5700        652        2095690   \n",
       "1  J.K. Rowling/Mary GrandPr??          4.4900        870        2153167   \n",
       "\n",
       "   text_reviews_count publication_date avg_ratings  \n",
       "0               27591        9/16/2006         4-5  \n",
       "1               29221       09/01/2004         4-5  "
      ]
     },
     "execution_count": 91,
     "metadata": {},
     "output_type": "execute_result"
    }
   ],
   "source": [
    "booksen.head(2)"
   ]
  },
  {
   "cell_type": "markdown",
   "id": "44bee853",
   "metadata": {},
   "source": [
    "## Average Rating?"
   ]
  },
  {
   "cell_type": "code",
   "execution_count": 92,
   "id": "b1674247",
   "metadata": {},
   "outputs": [
    {
     "data": {
      "text/plain": [
       "3.940767503572132"
      ]
     },
     "execution_count": 92,
     "metadata": {},
     "output_type": "execute_result"
    }
   ],
   "source": [
    "booksen[\"average_rating\"].mean()"
   ]
  },
  {
   "cell_type": "markdown",
   "id": "d79c27d7",
   "metadata": {},
   "source": [
    "## Most published author?"
   ]
  },
  {
   "cell_type": "code",
   "execution_count": 42,
   "id": "7850d151",
   "metadata": {},
   "outputs": [
    {
     "data": {
      "text/html": [
       "<div>\n",
       "<style scoped>\n",
       "    .dataframe tbody tr th:only-of-type {\n",
       "        vertical-align: middle;\n",
       "    }\n",
       "\n",
       "    .dataframe tbody tr th {\n",
       "        vertical-align: top;\n",
       "    }\n",
       "\n",
       "    .dataframe thead th {\n",
       "        text-align: right;\n",
       "    }\n",
       "</style>\n",
       "<table border=\"1\" class=\"dataframe\">\n",
       "  <thead>\n",
       "    <tr style=\"text-align: right;\">\n",
       "      <th></th>\n",
       "      <th>authors</th>\n",
       "      <th>Count</th>\n",
       "    </tr>\n",
       "  </thead>\n",
       "  <tbody>\n",
       "    <tr>\n",
       "      <th>0</th>\n",
       "      <td>P.G. Wodehouse</td>\n",
       "      <td>38</td>\n",
       "    </tr>\n",
       "    <tr>\n",
       "      <th>1</th>\n",
       "      <td>Stephen King</td>\n",
       "      <td>36</td>\n",
       "    </tr>\n",
       "    <tr>\n",
       "      <th>2</th>\n",
       "      <td>Orson Scott Card</td>\n",
       "      <td>33</td>\n",
       "    </tr>\n",
       "    <tr>\n",
       "      <th>3</th>\n",
       "      <td>Agatha Christie</td>\n",
       "      <td>32</td>\n",
       "    </tr>\n",
       "    <tr>\n",
       "      <th>4</th>\n",
       "      <td>Piers Anthony</td>\n",
       "      <td>29</td>\n",
       "    </tr>\n",
       "    <tr>\n",
       "      <th>5</th>\n",
       "      <td>Mercedes Lackey</td>\n",
       "      <td>29</td>\n",
       "    </tr>\n",
       "    <tr>\n",
       "      <th>6</th>\n",
       "      <td>Sandra Brown</td>\n",
       "      <td>28</td>\n",
       "    </tr>\n",
       "    <tr>\n",
       "      <th>7</th>\n",
       "      <td>Dick Francis</td>\n",
       "      <td>27</td>\n",
       "    </tr>\n",
       "    <tr>\n",
       "      <th>8</th>\n",
       "      <td>Rumiko Takahashi</td>\n",
       "      <td>23</td>\n",
       "    </tr>\n",
       "    <tr>\n",
       "      <th>9</th>\n",
       "      <td>James Patterson</td>\n",
       "      <td>23</td>\n",
       "    </tr>\n",
       "  </tbody>\n",
       "</table>\n",
       "</div>"
      ],
      "text/plain": [
       "            authors  Count\n",
       "0    P.G. Wodehouse     38\n",
       "1      Stephen King     36\n",
       "2  Orson Scott Card     33\n",
       "3   Agatha Christie     32\n",
       "4     Piers Anthony     29\n",
       "5   Mercedes Lackey     29\n",
       "6      Sandra Brown     28\n",
       "7      Dick Francis     27\n",
       "8  Rumiko Takahashi     23\n",
       "9   James Patterson     23"
      ]
     },
     "execution_count": 42,
     "metadata": {},
     "output_type": "execute_result"
    }
   ],
   "source": [
    "most_popauth = booksen.authors.value_counts().to_frame().reset_index()\n",
    "most_popauth.rename(columns={'authors':'Count','index':'authors'},inplace=True)\n",
    "most_popauth = most_popauth.iloc[:10,:]\n",
    "most_popauth.sort_values(by='Count',ascending=False)"
   ]
  },
  {
   "cell_type": "code",
   "execution_count": 43,
   "id": "b373a933",
   "metadata": {},
   "outputs": [
    {
     "data": {
      "text/plain": [
       "P.G. Wodehouse                              38\n",
       "Stephen King                                36\n",
       "Orson Scott Card                            33\n",
       "Agatha Christie                             32\n",
       "Piers Anthony                               29\n",
       "                                            ..\n",
       "Jimmy Buffett                                1\n",
       "Daniel Topolski/Patrick Robinson             1\n",
       "Garry Nelson                                 1\n",
       "George Selden/Garth Williams                 1\n",
       "Plotinus/Stephen MacKenna/John M. Dillon     1\n",
       "Name: authors, Length: 5853, dtype: int64"
      ]
     },
     "execution_count": 43,
     "metadata": {},
     "output_type": "execute_result"
    }
   ],
   "source": [
    "booksen[\"authors\"].value_counts()"
   ]
  },
  {
   "cell_type": "markdown",
   "id": "d2051f98",
   "metadata": {},
   "source": [
    "Clearly many values are missing, so this analysis makes no sense. Chomsky wrote more than 1 book, Mailer wrote more than 30 and he's nowhere."
   ]
  },
  {
   "cell_type": "markdown",
   "id": "765037f6",
   "metadata": {},
   "source": [
    "## Most common rating for a book?"
   ]
  },
  {
   "cell_type": "code",
   "execution_count": 44,
   "id": "78894801",
   "metadata": {},
   "outputs": [
    {
     "data": {
      "text/html": [
       "<div>\n",
       "<style scoped>\n",
       "    .dataframe tbody tr th:only-of-type {\n",
       "        vertical-align: middle;\n",
       "    }\n",
       "\n",
       "    .dataframe tbody tr th {\n",
       "        vertical-align: top;\n",
       "    }\n",
       "\n",
       "    .dataframe thead th {\n",
       "        text-align: right;\n",
       "    }\n",
       "</style>\n",
       "<table border=\"1\" class=\"dataframe\">\n",
       "  <thead>\n",
       "    <tr style=\"text-align: right;\">\n",
       "      <th></th>\n",
       "      <th>avg_ratings</th>\n",
       "      <th>Count</th>\n",
       "      <th>%</th>\n",
       "    </tr>\n",
       "  </thead>\n",
       "  <tbody>\n",
       "    <tr>\n",
       "      <th>0</th>\n",
       "      <td>3-4</td>\n",
       "      <td>5590</td>\n",
       "      <td>57.0525</td>\n",
       "    </tr>\n",
       "    <tr>\n",
       "      <th>1</th>\n",
       "      <td>4-5</td>\n",
       "      <td>4162</td>\n",
       "      <td>42.4781</td>\n",
       "    </tr>\n",
       "    <tr>\n",
       "      <th>2</th>\n",
       "      <td>2-3</td>\n",
       "      <td>43</td>\n",
       "      <td>0.4389</td>\n",
       "    </tr>\n",
       "    <tr>\n",
       "      <th>3</th>\n",
       "      <td>1-2</td>\n",
       "      <td>3</td>\n",
       "      <td>0.0306</td>\n",
       "    </tr>\n",
       "  </tbody>\n",
       "</table>\n",
       "</div>"
      ],
      "text/plain": [
       "  avg_ratings  Count       %\n",
       "0         3-4   5590 57.0525\n",
       "1         4-5   4162 42.4781\n",
       "2         2-3     43  0.4389\n",
       "3         1-2      3  0.0306"
      ]
     },
     "execution_count": 44,
     "metadata": {},
     "output_type": "execute_result"
    }
   ],
   "source": [
    "### 3-4* most common avg rating for a book\n",
    "\n",
    "avg_rate = booksen.avg_ratings.value_counts().to_frame().reset_index()\n",
    "avg_rate.rename(columns={'avg_ratings':'Count','index':'avg_ratings'},inplace=True)\n",
    "#avg_rate = avg_rate.iloc[:10,:]\n",
    "avg_rate['%'] = (avg_rate['Count'] / avg_rate['Count'].sum()) * 100\n",
    "avg_rate.sort_values(by='Count',ascending=False)"
   ]
  },
  {
   "cell_type": "code",
   "execution_count": 45,
   "id": "3579d50e",
   "metadata": {},
   "outputs": [
    {
     "data": {
      "text/plain": [
       "3.940767503572132"
      ]
     },
     "execution_count": 45,
     "metadata": {},
     "output_type": "execute_result"
    }
   ],
   "source": [
    "booksen[\"average_rating\"].mean()"
   ]
  },
  {
   "cell_type": "markdown",
   "id": "5872d642",
   "metadata": {},
   "source": [
    "## Most common book length (pages)"
   ]
  },
  {
   "cell_type": "code",
   "execution_count": 77,
   "id": "05e9c2d3",
   "metadata": {},
   "outputs": [
    {
     "data": {
      "text/html": [
       "<div>\n",
       "<style scoped>\n",
       "    .dataframe tbody tr th:only-of-type {\n",
       "        vertical-align: middle;\n",
       "    }\n",
       "\n",
       "    .dataframe tbody tr th {\n",
       "        vertical-align: top;\n",
       "    }\n",
       "\n",
       "    .dataframe thead th {\n",
       "        text-align: right;\n",
       "    }\n",
       "</style>\n",
       "<table border=\"1\" class=\"dataframe\">\n",
       "  <thead>\n",
       "    <tr style=\"text-align: right;\">\n",
       "      <th></th>\n",
       "      <th>num_pages</th>\n",
       "      <th>Count</th>\n",
       "    </tr>\n",
       "  </thead>\n",
       "  <tbody>\n",
       "    <tr>\n",
       "      <th>0</th>\n",
       "      <td>288</td>\n",
       "      <td>218</td>\n",
       "    </tr>\n",
       "    <tr>\n",
       "      <th>1</th>\n",
       "      <td>320</td>\n",
       "      <td>208</td>\n",
       "    </tr>\n",
       "    <tr>\n",
       "      <th>2</th>\n",
       "      <td>256</td>\n",
       "      <td>198</td>\n",
       "    </tr>\n",
       "    <tr>\n",
       "      <th>3</th>\n",
       "      <td>352</td>\n",
       "      <td>194</td>\n",
       "    </tr>\n",
       "    <tr>\n",
       "      <th>4</th>\n",
       "      <td>192</td>\n",
       "      <td>188</td>\n",
       "    </tr>\n",
       "    <tr>\n",
       "      <th>5</th>\n",
       "      <td>224</td>\n",
       "      <td>186</td>\n",
       "    </tr>\n",
       "    <tr>\n",
       "      <th>6</th>\n",
       "      <td>208</td>\n",
       "      <td>167</td>\n",
       "    </tr>\n",
       "    <tr>\n",
       "      <th>7</th>\n",
       "      <td>304</td>\n",
       "      <td>165</td>\n",
       "    </tr>\n",
       "    <tr>\n",
       "      <th>8</th>\n",
       "      <td>384</td>\n",
       "      <td>163</td>\n",
       "    </tr>\n",
       "    <tr>\n",
       "      <th>9</th>\n",
       "      <td>240</td>\n",
       "      <td>161</td>\n",
       "    </tr>\n",
       "  </tbody>\n",
       "</table>\n",
       "</div>"
      ],
      "text/plain": [
       "   num_pages  Count\n",
       "0        288    218\n",
       "1        320    208\n",
       "2        256    198\n",
       "3        352    194\n",
       "4        192    188\n",
       "5        224    186\n",
       "6        208    167\n",
       "7        304    165\n",
       "8        384    163\n",
       "9        240    161"
      ]
     },
     "execution_count": 77,
     "metadata": {},
     "output_type": "execute_result"
    }
   ],
   "source": [
    "avg_pages = booksen.num_pages.value_counts().to_frame().reset_index()\n",
    "avg_pages.rename(columns={'num_pages':'Count','index':'num_pages'},inplace=True)\n",
    "avg_pages = avg_pages.iloc[:10,:]\n",
    "avg_pages.sort_values(by='Count',ascending=False)"
   ]
  },
  {
   "cell_type": "markdown",
   "id": "af401c5a",
   "metadata": {},
   "source": [
    "## Lowest rated book"
   ]
  },
  {
   "cell_type": "code",
   "execution_count": 47,
   "id": "e29b5cb7",
   "metadata": {},
   "outputs": [
    {
     "data": {
      "text/plain": [
       "8001   1.6700\n",
       "5672   2.0000\n",
       "8112   2.0000\n",
       "8815   2.4000\n",
       "6505   2.5000\n",
       "        ...  \n",
       "4790   5.0000\n",
       "6250   5.0000\n",
       "9286   5.0000\n",
       "855    5.0000\n",
       "8547   5.0000\n",
       "Name: average_rating, Length: 9798, dtype: float64"
      ]
     },
     "execution_count": 47,
     "metadata": {},
     "output_type": "execute_result"
    }
   ],
   "source": [
    "booksen[\"average_rating\"].sort_values(ascending=True)"
   ]
  },
  {
   "cell_type": "code",
   "execution_count": 48,
   "id": "bd15f8a5",
   "metadata": {},
   "outputs": [
    {
     "data": {
      "text/plain": [
       "title                                 Citizen Girl\n",
       "authors               Emma McLaughlin/Nicola Kraus\n",
       "average_rating                              2.4000\n",
       "num_pages                                      305\n",
       "ratings_count                                 5415\n",
       "text_reviews_count                             577\n",
       "publication_date                        10/04/2005\n",
       "avg_ratings                                    2-3\n",
       "Name: 8815, dtype: object"
      ]
     },
     "execution_count": 48,
     "metadata": {},
     "output_type": "execute_result"
    }
   ],
   "source": [
    "##What is the lowest rated book, with many reviews on it?\n",
    "\n",
    "result = booksen.loc[8815]\n",
    "result"
   ]
  },
  {
   "cell_type": "code",
   "execution_count": 51,
   "id": "50fd646b",
   "metadata": {},
   "outputs": [
    {
     "data": {
      "text/html": [
       "<div>\n",
       "<style scoped>\n",
       "    .dataframe tbody tr th:only-of-type {\n",
       "        vertical-align: middle;\n",
       "    }\n",
       "\n",
       "    .dataframe tbody tr th {\n",
       "        vertical-align: top;\n",
       "    }\n",
       "\n",
       "    .dataframe thead th {\n",
       "        text-align: right;\n",
       "    }\n",
       "</style>\n",
       "<table border=\"1\" class=\"dataframe\">\n",
       "  <thead>\n",
       "    <tr style=\"text-align: right;\">\n",
       "      <th></th>\n",
       "      <th>average_rating</th>\n",
       "      <th>ratings_count</th>\n",
       "    </tr>\n",
       "  </thead>\n",
       "  <tbody>\n",
       "    <tr>\n",
       "      <th>8001</th>\n",
       "      <td>1.6700</td>\n",
       "      <td>3</td>\n",
       "    </tr>\n",
       "    <tr>\n",
       "      <th>5672</th>\n",
       "      <td>2.0000</td>\n",
       "      <td>1</td>\n",
       "    </tr>\n",
       "    <tr>\n",
       "      <th>8112</th>\n",
       "      <td>2.0000</td>\n",
       "      <td>1</td>\n",
       "    </tr>\n",
       "    <tr>\n",
       "      <th>8815</th>\n",
       "      <td>2.4000</td>\n",
       "      <td>5415</td>\n",
       "    </tr>\n",
       "    <tr>\n",
       "      <th>6505</th>\n",
       "      <td>2.5000</td>\n",
       "      <td>4</td>\n",
       "    </tr>\n",
       "    <tr>\n",
       "      <th>...</th>\n",
       "      <td>...</td>\n",
       "      <td>...</td>\n",
       "    </tr>\n",
       "    <tr>\n",
       "      <th>4790</th>\n",
       "      <td>5.0000</td>\n",
       "      <td>5</td>\n",
       "    </tr>\n",
       "    <tr>\n",
       "      <th>6250</th>\n",
       "      <td>5.0000</td>\n",
       "      <td>2</td>\n",
       "    </tr>\n",
       "    <tr>\n",
       "      <th>9286</th>\n",
       "      <td>5.0000</td>\n",
       "      <td>1</td>\n",
       "    </tr>\n",
       "    <tr>\n",
       "      <th>855</th>\n",
       "      <td>5.0000</td>\n",
       "      <td>4</td>\n",
       "    </tr>\n",
       "    <tr>\n",
       "      <th>8547</th>\n",
       "      <td>5.0000</td>\n",
       "      <td>1</td>\n",
       "    </tr>\n",
       "  </tbody>\n",
       "</table>\n",
       "<p>9798 rows × 2 columns</p>\n",
       "</div>"
      ],
      "text/plain": [
       "      average_rating  ratings_count\n",
       "8001          1.6700              3\n",
       "5672          2.0000              1\n",
       "8112          2.0000              1\n",
       "8815          2.4000           5415\n",
       "6505          2.5000              4\n",
       "...              ...            ...\n",
       "4790          5.0000              5\n",
       "6250          5.0000              2\n",
       "9286          5.0000              1\n",
       "855           5.0000              4\n",
       "8547          5.0000              1\n",
       "\n",
       "[9798 rows x 2 columns]"
      ]
     },
     "execution_count": 51,
     "metadata": {},
     "output_type": "execute_result"
    }
   ],
   "source": [
    "low_rate = booksen[\"average_rating\"].sort_values(ascending=True).to_frame()\n",
    "low_rate.rename(columns={'average_ratings':'Count','index':'Book ID'},inplace=True)\n",
    "\n",
    "low_rate['ratings_count'] = booksen[\"ratings_count\"]\n",
    "low_rate"
   ]
  },
  {
   "cell_type": "code",
   "execution_count": 82,
   "id": "fc9bfb5b",
   "metadata": {},
   "outputs": [
    {
     "data": {
      "text/html": [
       "<div>\n",
       "<style scoped>\n",
       "    .dataframe tbody tr th:only-of-type {\n",
       "        vertical-align: middle;\n",
       "    }\n",
       "\n",
       "    .dataframe tbody tr th {\n",
       "        vertical-align: top;\n",
       "    }\n",
       "\n",
       "    .dataframe thead th {\n",
       "        text-align: right;\n",
       "    }\n",
       "</style>\n",
       "<table border=\"1\" class=\"dataframe\">\n",
       "  <thead>\n",
       "    <tr style=\"text-align: right;\">\n",
       "      <th></th>\n",
       "      <th>average_rating</th>\n",
       "      <th>ratings_count</th>\n",
       "    </tr>\n",
       "  </thead>\n",
       "  <tbody>\n",
       "    <tr>\n",
       "      <th>8547</th>\n",
       "      <td>5.0000</td>\n",
       "      <td>1</td>\n",
       "    </tr>\n",
       "    <tr>\n",
       "      <th>9286</th>\n",
       "      <td>5.0000</td>\n",
       "      <td>1</td>\n",
       "    </tr>\n",
       "    <tr>\n",
       "      <th>855</th>\n",
       "      <td>5.0000</td>\n",
       "      <td>4</td>\n",
       "    </tr>\n",
       "    <tr>\n",
       "      <th>6250</th>\n",
       "      <td>5.0000</td>\n",
       "      <td>2</td>\n",
       "    </tr>\n",
       "    <tr>\n",
       "      <th>4790</th>\n",
       "      <td>5.0000</td>\n",
       "      <td>5</td>\n",
       "    </tr>\n",
       "    <tr>\n",
       "      <th>4374</th>\n",
       "      <td>4.9100</td>\n",
       "      <td>11</td>\n",
       "    </tr>\n",
       "    <tr>\n",
       "      <th>9816</th>\n",
       "      <td>4.8300</td>\n",
       "      <td>6</td>\n",
       "    </tr>\n",
       "    <tr>\n",
       "      <th>6590</th>\n",
       "      <td>4.8200</td>\n",
       "      <td>32213</td>\n",
       "    </tr>\n",
       "    <tr>\n",
       "      <th>4</th>\n",
       "      <td>4.7800</td>\n",
       "      <td>41428</td>\n",
       "    </tr>\n",
       "    <tr>\n",
       "      <th>6592</th>\n",
       "      <td>4.7600</td>\n",
       "      <td>23875</td>\n",
       "    </tr>\n",
       "    <tr>\n",
       "      <th>4698</th>\n",
       "      <td>4.7500</td>\n",
       "      <td>8</td>\n",
       "    </tr>\n",
       "    <tr>\n",
       "      <th>6</th>\n",
       "      <td>4.7300</td>\n",
       "      <td>28242</td>\n",
       "    </tr>\n",
       "    <tr>\n",
       "      <th>1848</th>\n",
       "      <td>4.7300</td>\n",
       "      <td>144</td>\n",
       "    </tr>\n",
       "    <tr>\n",
       "      <th>8933</th>\n",
       "      <td>4.7200</td>\n",
       "      <td>102</td>\n",
       "    </tr>\n",
       "    <tr>\n",
       "      <th>6593</th>\n",
       "      <td>4.7200</td>\n",
       "      <td>15365</td>\n",
       "    </tr>\n",
       "  </tbody>\n",
       "</table>\n",
       "</div>"
      ],
      "text/plain": [
       "      average_rating  ratings_count\n",
       "8547          5.0000              1\n",
       "9286          5.0000              1\n",
       "855           5.0000              4\n",
       "6250          5.0000              2\n",
       "4790          5.0000              5\n",
       "4374          4.9100             11\n",
       "9816          4.8300              6\n",
       "6590          4.8200          32213\n",
       "4             4.7800          41428\n",
       "6592          4.7600          23875\n",
       "4698          4.7500              8\n",
       "6             4.7300          28242\n",
       "1848          4.7300            144\n",
       "8933          4.7200            102\n",
       "6593          4.7200          15365"
      ]
     },
     "execution_count": 82,
     "metadata": {},
     "output_type": "execute_result"
    }
   ],
   "source": [
    "high_rate = booksen[\"average_rating\"].sort_values(ascending=False).to_frame()\n",
    "high_rate.rename(columns={'average_ratings':'Count','index':'Book ID'},inplace=True)\n",
    "\n",
    "high_rate['ratings_count'] = booksen[\"ratings_count\"]\n",
    "high_rate.head(15)"
   ]
  },
  {
   "cell_type": "markdown",
   "id": "fdd8a36e",
   "metadata": {},
   "source": [
    "## Highest Rated Book"
   ]
  },
  {
   "cell_type": "code",
   "execution_count": 83,
   "id": "a886b0da",
   "metadata": {},
   "outputs": [
    {
     "data": {
      "text/plain": [
       "title                 The Complete Calvin and Hobbes\n",
       "authors                               Bill Watterson\n",
       "average_rating                                4.8200\n",
       "num_pages                                       1456\n",
       "ratings_count                                  32213\n",
       "text_reviews_count                               930\n",
       "publication_date                          09/06/2005\n",
       "avg_ratings                                      4-5\n",
       "Name: 6590, dtype: object"
      ]
     },
     "execution_count": 83,
     "metadata": {},
     "output_type": "execute_result"
    }
   ],
   "source": [
    "##What is the highest rated book, with many reviews on it?\n",
    "\n",
    "result = booksen.loc[6590]\n",
    "result"
   ]
  },
  {
   "cell_type": "code",
   "execution_count": 75,
   "id": "5ee427c2",
   "metadata": {},
   "outputs": [
    {
     "data": {
      "text/html": [
       "<div>\n",
       "<style scoped>\n",
       "    .dataframe tbody tr th:only-of-type {\n",
       "        vertical-align: middle;\n",
       "    }\n",
       "\n",
       "    .dataframe tbody tr th {\n",
       "        vertical-align: top;\n",
       "    }\n",
       "\n",
       "    .dataframe thead th {\n",
       "        text-align: right;\n",
       "    }\n",
       "</style>\n",
       "<table border=\"1\" class=\"dataframe\">\n",
       "  <thead>\n",
       "    <tr style=\"text-align: right;\">\n",
       "      <th></th>\n",
       "      <th>Page Count</th>\n",
       "      <th>Ratings Count</th>\n",
       "      <th>title</th>\n",
       "    </tr>\n",
       "  </thead>\n",
       "  <tbody>\n",
       "    <tr>\n",
       "      <th>6500</th>\n",
       "      <td>6576</td>\n",
       "      <td>1338</td>\n",
       "      <td>The Complete Aubrey/Maturin Novels (5 Volumes)</td>\n",
       "    </tr>\n",
       "    <tr>\n",
       "      <th>6805</th>\n",
       "      <td>4736</td>\n",
       "      <td>1493</td>\n",
       "      <td>The Second World War</td>\n",
       "    </tr>\n",
       "    <tr>\n",
       "      <th>10910</th>\n",
       "      <td>3400</td>\n",
       "      <td>6</td>\n",
       "      <td>Remembrance of Things Past (Boxed Set)</td>\n",
       "    </tr>\n",
       "    <tr>\n",
       "      <th>6</th>\n",
       "      <td>3342</td>\n",
       "      <td>28242</td>\n",
       "      <td>Harry Potter Collection (Harry Potter  #1-6)</td>\n",
       "    </tr>\n",
       "    <tr>\n",
       "      <th>6825</th>\n",
       "      <td>3020</td>\n",
       "      <td>2734</td>\n",
       "      <td>Summa Theologica  5 Vols</td>\n",
       "    </tr>\n",
       "    <tr>\n",
       "      <th>7865</th>\n",
       "      <td>2751</td>\n",
       "      <td>23</td>\n",
       "      <td>Harrison's Principles of Internal Medicine</td>\n",
       "    </tr>\n",
       "    <tr>\n",
       "      <th>4</th>\n",
       "      <td>2690</td>\n",
       "      <td>41428</td>\n",
       "      <td>Harry Potter Boxed Set  Books 1-5 (Harry Potte...</td>\n",
       "    </tr>\n",
       "    <tr>\n",
       "      <th>10753</th>\n",
       "      <td>2480</td>\n",
       "      <td>4196</td>\n",
       "      <td>The Sword of Truth  Boxed Set I: Wizard's Firs...</td>\n",
       "    </tr>\n",
       "    <tr>\n",
       "      <th>5616</th>\n",
       "      <td>2198</td>\n",
       "      <td>4166</td>\n",
       "      <td>Study Bible: NIV</td>\n",
       "    </tr>\n",
       "    <tr>\n",
       "      <th>1053</th>\n",
       "      <td>2088</td>\n",
       "      <td>98611</td>\n",
       "      <td>The Complete Anne of Green Gables Boxed Set (A...</td>\n",
       "    </tr>\n",
       "  </tbody>\n",
       "</table>\n",
       "</div>"
      ],
      "text/plain": [
       "       Page Count  Ratings Count  \\\n",
       "6500         6576           1338   \n",
       "6805         4736           1493   \n",
       "10910        3400              6   \n",
       "6            3342          28242   \n",
       "6825         3020           2734   \n",
       "7865         2751             23   \n",
       "4            2690          41428   \n",
       "10753        2480           4196   \n",
       "5616         2198           4166   \n",
       "1053         2088          98611   \n",
       "\n",
       "                                                   title  \n",
       "6500      The Complete Aubrey/Maturin Novels (5 Volumes)  \n",
       "6805                                The Second World War  \n",
       "10910             Remembrance of Things Past (Boxed Set)  \n",
       "6           Harry Potter Collection (Harry Potter  #1-6)  \n",
       "6825                            Summa Theologica  5 Vols  \n",
       "7865          Harrison's Principles of Internal Medicine  \n",
       "4      Harry Potter Boxed Set  Books 1-5 (Harry Potte...  \n",
       "10753  The Sword of Truth  Boxed Set I: Wizard's Firs...  \n",
       "5616                                    Study Bible: NIV  \n",
       "1053   The Complete Anne of Green Gables Boxed Set (A...  "
      ]
     },
     "execution_count": 75,
     "metadata": {},
     "output_type": "execute_result"
    }
   ],
   "source": [
    "short_book = booksen[\"num_pages\"].sort_values(ascending=False).to_frame()\n",
    "short_book.rename(columns={'num_pages':'Page Count','index':'Book ID'},inplace=True)\n",
    "\n",
    "short_book['Ratings Count'] = booksen[\"ratings_count\"]\n",
    "short_book[\"title\"] = booksen[\"title\"]\n",
    "short_book.head(10)"
   ]
  },
  {
   "cell_type": "markdown",
   "id": "8aee0dac",
   "metadata": {},
   "source": [
    "## Most text reviews?"
   ]
  },
  {
   "cell_type": "code",
   "execution_count": 87,
   "id": "32cd2129",
   "metadata": {},
   "outputs": [
    {
     "data": {
      "text/html": [
       "<div>\n",
       "<style scoped>\n",
       "    .dataframe tbody tr th:only-of-type {\n",
       "        vertical-align: middle;\n",
       "    }\n",
       "\n",
       "    .dataframe tbody tr th {\n",
       "        vertical-align: top;\n",
       "    }\n",
       "\n",
       "    .dataframe thead th {\n",
       "        text-align: right;\n",
       "    }\n",
       "</style>\n",
       "<table border=\"1\" class=\"dataframe\">\n",
       "  <thead>\n",
       "    <tr style=\"text-align: right;\">\n",
       "      <th></th>\n",
       "      <th>text_reviews_count</th>\n",
       "      <th>Ratings Count</th>\n",
       "      <th>title</th>\n",
       "    </tr>\n",
       "  </thead>\n",
       "  <tbody>\n",
       "    <tr>\n",
       "      <th>10340</th>\n",
       "      <td>94265</td>\n",
       "      <td>4597666</td>\n",
       "      <td>Twilight (Twilight  #1)</td>\n",
       "    </tr>\n",
       "    <tr>\n",
       "      <th>5272</th>\n",
       "      <td>86881</td>\n",
       "      <td>1516367</td>\n",
       "      <td>The Book Thief</td>\n",
       "    </tr>\n",
       "    <tr>\n",
       "      <th>1069</th>\n",
       "      <td>56604</td>\n",
       "      <td>1585589</td>\n",
       "      <td>The Giver (The Giver  #1)</td>\n",
       "    </tr>\n",
       "    <tr>\n",
       "      <th>284</th>\n",
       "      <td>55843</td>\n",
       "      <td>1631221</td>\n",
       "      <td>The Alchemist</td>\n",
       "    </tr>\n",
       "    <tr>\n",
       "      <th>10704</th>\n",
       "      <td>52759</td>\n",
       "      <td>1260027</td>\n",
       "      <td>Water for Elephants</td>\n",
       "    </tr>\n",
       "    <tr>\n",
       "      <th>7312</th>\n",
       "      <td>47951</td>\n",
       "      <td>1766725</td>\n",
       "      <td>The Lightning Thief (Percy Jackson and the Oly...</td>\n",
       "    </tr>\n",
       "    <tr>\n",
       "      <th>5409</th>\n",
       "      <td>47620</td>\n",
       "      <td>1362264</td>\n",
       "      <td>Eat  Pray  Love</td>\n",
       "    </tr>\n",
       "    <tr>\n",
       "      <th>2060</th>\n",
       "      <td>46176</td>\n",
       "      <td>808656</td>\n",
       "      <td>The Glass Castle</td>\n",
       "    </tr>\n",
       "    <tr>\n",
       "      <th>1462</th>\n",
       "      <td>43499</td>\n",
       "      <td>2457092</td>\n",
       "      <td>The Catcher in the Rye</td>\n",
       "    </tr>\n",
       "    <tr>\n",
       "      <th>3</th>\n",
       "      <td>36325</td>\n",
       "      <td>2339585</td>\n",
       "      <td>Harry Potter and the Prisoner of Azkaban (Harr...</td>\n",
       "    </tr>\n",
       "  </tbody>\n",
       "</table>\n",
       "</div>"
      ],
      "text/plain": [
       "       text_reviews_count  Ratings Count  \\\n",
       "10340               94265        4597666   \n",
       "5272                86881        1516367   \n",
       "1069                56604        1585589   \n",
       "284                 55843        1631221   \n",
       "10704               52759        1260027   \n",
       "7312                47951        1766725   \n",
       "5409                47620        1362264   \n",
       "2060                46176         808656   \n",
       "1462                43499        2457092   \n",
       "3                   36325        2339585   \n",
       "\n",
       "                                                   title  \n",
       "10340                            Twilight (Twilight  #1)  \n",
       "5272                                      The Book Thief  \n",
       "1069                           The Giver (The Giver  #1)  \n",
       "284                                        The Alchemist  \n",
       "10704                                Water for Elephants  \n",
       "7312   The Lightning Thief (Percy Jackson and the Oly...  \n",
       "5409                                     Eat  Pray  Love  \n",
       "2060                                    The Glass Castle  \n",
       "1462                              The Catcher in the Rye  \n",
       "3      Harry Potter and the Prisoner of Azkaban (Harr...  "
      ]
     },
     "execution_count": 87,
     "metadata": {},
     "output_type": "execute_result"
    }
   ],
   "source": [
    "rv_book = booksen[\"text_reviews_count\"].sort_values(ascending=False).to_frame()\n",
    "rv_book.rename(columns={'num_pages':'Page Count','index':'Book ID'},inplace=True)\n",
    "\n",
    "rv_book['Ratings Count'] = booksen[\"ratings_count\"]\n",
    "rv_book[\"title\"] = booksen[\"title\"]\n",
    "rv_book.head(10)"
   ]
  },
  {
   "cell_type": "markdown",
   "id": "904e8351",
   "metadata": {},
   "source": [
    "## Most ratings?"
   ]
  },
  {
   "cell_type": "code",
   "execution_count": 88,
   "id": "0cdc600a",
   "metadata": {},
   "outputs": [
    {
     "data": {
      "text/html": [
       "<div>\n",
       "<style scoped>\n",
       "    .dataframe tbody tr th:only-of-type {\n",
       "        vertical-align: middle;\n",
       "    }\n",
       "\n",
       "    .dataframe tbody tr th {\n",
       "        vertical-align: top;\n",
       "    }\n",
       "\n",
       "    .dataframe thead th {\n",
       "        text-align: right;\n",
       "    }\n",
       "</style>\n",
       "<table border=\"1\" class=\"dataframe\">\n",
       "  <thead>\n",
       "    <tr style=\"text-align: right;\">\n",
       "      <th></th>\n",
       "      <th>ratings_count</th>\n",
       "      <th>Ratings Count</th>\n",
       "      <th>title</th>\n",
       "    </tr>\n",
       "  </thead>\n",
       "  <tbody>\n",
       "    <tr>\n",
       "      <th>10340</th>\n",
       "      <td>4597666</td>\n",
       "      <td>4597666</td>\n",
       "      <td>Twilight (Twilight  #1)</td>\n",
       "    </tr>\n",
       "    <tr>\n",
       "      <th>1697</th>\n",
       "      <td>2530894</td>\n",
       "      <td>2530894</td>\n",
       "      <td>The Hobbit  or There and Back Again</td>\n",
       "    </tr>\n",
       "    <tr>\n",
       "      <th>1462</th>\n",
       "      <td>2457092</td>\n",
       "      <td>2457092</td>\n",
       "      <td>The Catcher in the Rye</td>\n",
       "    </tr>\n",
       "    <tr>\n",
       "      <th>307</th>\n",
       "      <td>2418736</td>\n",
       "      <td>2418736</td>\n",
       "      <td>Angels &amp; Demons (Robert Langdon  #1)</td>\n",
       "    </tr>\n",
       "    <tr>\n",
       "      <th>3</th>\n",
       "      <td>2339585</td>\n",
       "      <td>2339585</td>\n",
       "      <td>Harry Potter and the Prisoner of Azkaban (Harr...</td>\n",
       "    </tr>\n",
       "    <tr>\n",
       "      <th>4416</th>\n",
       "      <td>2293963</td>\n",
       "      <td>2293963</td>\n",
       "      <td>Harry Potter and the Chamber of Secrets (Harry...</td>\n",
       "    </tr>\n",
       "    <tr>\n",
       "      <th>1</th>\n",
       "      <td>2153167</td>\n",
       "      <td>2153167</td>\n",
       "      <td>Harry Potter and the Order of the Phoenix (Har...</td>\n",
       "    </tr>\n",
       "    <tr>\n",
       "      <th>23</th>\n",
       "      <td>2128944</td>\n",
       "      <td>2128944</td>\n",
       "      <td>The Fellowship of the Ring (The Lord of the Ri...</td>\n",
       "    </tr>\n",
       "    <tr>\n",
       "      <th>2114</th>\n",
       "      <td>2111750</td>\n",
       "      <td>2111750</td>\n",
       "      <td>Animal Farm</td>\n",
       "    </tr>\n",
       "    <tr>\n",
       "      <th>0</th>\n",
       "      <td>2095690</td>\n",
       "      <td>2095690</td>\n",
       "      <td>Harry Potter and the Half-Blood Prince (Harry ...</td>\n",
       "    </tr>\n",
       "  </tbody>\n",
       "</table>\n",
       "</div>"
      ],
      "text/plain": [
       "       ratings_count  Ratings Count  \\\n",
       "10340        4597666        4597666   \n",
       "1697         2530894        2530894   \n",
       "1462         2457092        2457092   \n",
       "307          2418736        2418736   \n",
       "3            2339585        2339585   \n",
       "4416         2293963        2293963   \n",
       "1            2153167        2153167   \n",
       "23           2128944        2128944   \n",
       "2114         2111750        2111750   \n",
       "0            2095690        2095690   \n",
       "\n",
       "                                                   title  \n",
       "10340                            Twilight (Twilight  #1)  \n",
       "1697                 The Hobbit  or There and Back Again  \n",
       "1462                              The Catcher in the Rye  \n",
       "307                 Angels & Demons (Robert Langdon  #1)  \n",
       "3      Harry Potter and the Prisoner of Azkaban (Harr...  \n",
       "4416   Harry Potter and the Chamber of Secrets (Harry...  \n",
       "1      Harry Potter and the Order of the Phoenix (Har...  \n",
       "23     The Fellowship of the Ring (The Lord of the Ri...  \n",
       "2114                                         Animal Farm  \n",
       "0      Harry Potter and the Half-Blood Prince (Harry ...  "
      ]
     },
     "execution_count": 88,
     "metadata": {},
     "output_type": "execute_result"
    }
   ],
   "source": [
    "rat_book = booksen[\"ratings_count\"].sort_values(ascending=False).to_frame()\n",
    "rat_book.rename(columns={'num_pages':'Page Count','index':'Book ID'},inplace=True)\n",
    "\n",
    "rat_book['Ratings Count'] = booksen[\"ratings_count\"]\n",
    "rat_book[\"title\"] = booksen[\"title\"]\n",
    "rat_book.head(10)"
   ]
  },
  {
   "cell_type": "markdown",
   "id": "c6f19482",
   "metadata": {},
   "source": [
    "## 5.2 Analysis: Relationships between GoodReads metrics?"
   ]
  },
  {
   "cell_type": "code",
   "execution_count": 90,
   "id": "57c2012d",
   "metadata": {},
   "outputs": [
    {
     "data": {
      "text/plain": [
       "<AxesSubplot:>"
      ]
     },
     "execution_count": 90,
     "metadata": {},
     "output_type": "execute_result"
    },
    {
     "data": {
      "image/png": "[encoded data removed]",
      "text/plain": [
       "<Figure size 432x288 with 2 Axes>"
      ]
     },
     "metadata": {},
     "output_type": "display_data"
    }
   ],
   "source": [
    "sns.heatmap(booksen.corr(), annot=True, cmap='coolwarm' , linecolor='black', linewidth='1')"
   ]
  },
  {
   "cell_type": "code",
   "execution_count": 93,
   "id": "de5822cb",
   "metadata": {},
   "outputs": [
    {
     "data": {
      "text/html": [
       "<div>\n",
       "<style scoped>\n",
       "    .dataframe tbody tr th:only-of-type {\n",
       "        vertical-align: middle;\n",
       "    }\n",
       "\n",
       "    .dataframe tbody tr th {\n",
       "        vertical-align: top;\n",
       "    }\n",
       "\n",
       "    .dataframe thead th {\n",
       "        text-align: right;\n",
       "    }\n",
       "</style>\n",
       "<table border=\"1\" class=\"dataframe\">\n",
       "  <thead>\n",
       "    <tr style=\"text-align: right;\">\n",
       "      <th></th>\n",
       "      <th>average_rating</th>\n",
       "      <th>num_pages</th>\n",
       "      <th>ratings_count</th>\n",
       "      <th>text_reviews_count</th>\n",
       "    </tr>\n",
       "  </thead>\n",
       "  <tbody>\n",
       "    <tr>\n",
       "      <th>average_rating</th>\n",
       "      <td>0.0000</td>\n",
       "      <td>0.0000</td>\n",
       "      <td>0.0000</td>\n",
       "      <td>0.0001</td>\n",
       "    </tr>\n",
       "    <tr>\n",
       "      <th>num_pages</th>\n",
       "      <td>0.0000</td>\n",
       "      <td>0.0000</td>\n",
       "      <td>0.0051</td>\n",
       "      <td>0.0041</td>\n",
       "    </tr>\n",
       "    <tr>\n",
       "      <th>ratings_count</th>\n",
       "      <td>0.0000</td>\n",
       "      <td>0.0051</td>\n",
       "      <td>0.0000</td>\n",
       "      <td>0.0000</td>\n",
       "    </tr>\n",
       "    <tr>\n",
       "      <th>text_reviews_count</th>\n",
       "      <td>0.0001</td>\n",
       "      <td>0.0041</td>\n",
       "      <td>0.0000</td>\n",
       "      <td>0.0000</td>\n",
       "    </tr>\n",
       "  </tbody>\n",
       "</table>\n",
       "</div>"
      ],
      "text/plain": [
       "                   average_rating num_pages ratings_count text_reviews_count\n",
       "average_rating             0.0000    0.0000        0.0000             0.0001\n",
       "num_pages                  0.0000    0.0000        0.0051             0.0041\n",
       "ratings_count              0.0000    0.0051        0.0000             0.0000\n",
       "text_reviews_count         0.0001    0.0041        0.0000             0.0000"
      ]
     },
     "execution_count": 93,
     "metadata": {},
     "output_type": "execute_result"
    }
   ],
   "source": [
    "from scipy.stats import pearsonr\n",
    "import pandas as pd\n",
    "\n",
    "def calculate_pvalues(df):\n",
    "    df = df.dropna()._get_numeric_data()\n",
    "    dfcols = pd.DataFrame(columns=df.columns)\n",
    "    pvalues = dfcols.transpose().join(dfcols, how='outer')\n",
    "    for r in df.columns:\n",
    "        for c in df.columns:\n",
    "            pvalues[r][c] = round(pearsonr(df[r], df[c])[1], 4)\n",
    "    return pvalues\n",
    "\n",
    "\n",
    "calculate_pvalues(booksen) "
   ]
  },
  {
   "cell_type": "markdown",
   "id": "f0106825",
   "metadata": {},
   "source": [
    "## 5.3 So if everything correlates, what are the trends?"
   ]
  },
  {
   "cell_type": "code",
   "execution_count": 110,
   "id": "bef46251",
   "metadata": {},
   "outputs": [],
   "source": [
    "bookcut = booksen.sort_values(\"num_pages\", ascending=False)[5:]"
   ]
  },
  {
   "cell_type": "code",
   "execution_count": 166,
   "id": "c195ec80",
   "metadata": {},
   "outputs": [
    {
     "data": {
      "text/plain": [
       "<seaborn.axisgrid.FacetGrid at 0x1a384e6e0d0>"
      ]
     },
     "execution_count": 166,
     "metadata": {},
     "output_type": "execute_result"
    },
    {
     "data": {
      "image/png": "[encoded data removed]",
      "text/plain": [
       "<Figure size 1510.55x360 with 1 Axes>"
      ]
     },
     "metadata": {},
     "output_type": "display_data"
    }
   ],
   "source": [
    "sns.set(rc={'axes.facecolor':'white', 'figure.facecolor':'white'})\n",
    "sns.set_style(\"darkgrid\", {\"xtick.major.size\": 8, \"ytick.major.size\": 8})\n",
    "\n",
    "sns.lmplot(x=\"num_pages\", y=\"average_rating\", data=bookcut, hue = \"avg_ratings\", palette=\"Set1\",\n",
    "           x_jitter=False, y_jitter=False,aspect=4, fit_reg=False, markers=\".\"\n",
    "          )"
   ]
  },
  {
   "cell_type": "markdown",
   "id": "09588c62",
   "metadata": {},
   "source": [
    "## 5.3.1. More pages, more likely to be higher average rating? - Bias for only reviewing what is read."
   ]
  },
  {
   "cell_type": "code",
   "execution_count": 183,
   "id": "d9bfb229",
   "metadata": {},
   "outputs": [
    {
     "data": {
      "text/plain": [
       "<seaborn.axisgrid.FacetGrid at 0x1a3e7e378e0>"
      ]
     },
     "execution_count": 183,
     "metadata": {},
     "output_type": "execute_result"
    },
    {
     "data": {
      "image/png": "[encoded data removed]",
      "text/plain": [
       "<Figure size 1150.55x360 with 1 Axes>"
      ]
     },
     "metadata": {},
     "output_type": "display_data"
    }
   ],
   "source": [
    "sns.lmplot(x=\"num_pages\", y=\"text_reviews_count\", data=bookcut, hue = \"avg_ratings\", palette=\"Set1\",\n",
    "           x_jitter=False, y_jitter=False,aspect=3, fit_reg=False, markers=\".\",\n",
    "          )"
   ]
  },
  {
   "cell_type": "markdown",
   "id": "06cecb59",
   "metadata": {},
   "source": [
    "## 5.3.2 More text reviews for shorter, less appealing books. As predicted, due to fewer readers of longer books."
   ]
  },
  {
   "cell_type": "code",
   "execution_count": 193,
   "id": "45027612",
   "metadata": {},
   "outputs": [
    {
     "data": {
      "text/plain": [
       "<seaborn.axisgrid.FacetGrid at 0x1a38c6f49d0>"
      ]
     },
     "execution_count": 193,
     "metadata": {},
     "output_type": "execute_result"
    },
    {
     "data": {
      "image/png": "[encoded data removed]",
      "text/plain": [
       "<Figure size 360x360 with 1 Axes>"
      ]
     },
     "metadata": {},
     "output_type": "display_data"
    }
   ],
   "source": [
    "sns.lmplot(x=\"text_reviews_count\", y=\"ratings_count\", data=bookcut, palette=\"Set1\",\n",
    "           x_jitter=False, y_jitter=False,aspect=1, fit_reg=True, markers=\".\"\n",
    "          )\n"
   ]
  },
  {
   "cell_type": "code",
   "execution_count": 194,
   "id": "cf6a0bf1",
   "metadata": {},
   "outputs": [
    {
     "data": {
      "text/plain": [
       "<seaborn.axisgrid.FacetGrid at 0x1a38c75f970>"
      ]
     },
     "execution_count": 194,
     "metadata": {},
     "output_type": "execute_result"
    },
    {
     "data": {
      "image/png": "[encoded data removed]",
      "text/plain": [
       "<Figure size 1150.55x360 with 1 Axes>"
      ]
     },
     "metadata": {},
     "output_type": "display_data"
    }
   ],
   "source": [
    "sns.lmplot(x=\"average_rating\", y=\"ratings_count\", data=bookcut, hue = \"avg_ratings\", palette=\"Set1\",\n",
    "           x_jitter=False, y_jitter=False,aspect=3, fit_reg=False, markers=\".\",\n",
    "          )"
   ]
  },
  {
   "cell_type": "markdown",
   "id": "507e5245",
   "metadata": {},
   "source": [
    "## Books with an average rating just above the average average rating (3.9) have a greater likelihood of high rating count. "
   ]
  },
  {
   "cell_type": "code",
   "execution_count": 201,
   "id": "a0a4f481",
   "metadata": {},
   "outputs": [
    {
     "data": {
      "text/plain": [
       "<AxesSubplot:xlabel='average_rating', ylabel='Density'>"
      ]
     },
     "execution_count": 201,
     "metadata": {},
     "output_type": "execute_result"
    },
    {
     "data": {
      "image/png": "[encoded data removed]",
      "text/plain": [
       "<Figure size 432x288 with 1 Axes>"
      ]
     },
     "metadata": {},
     "output_type": "display_data"
    }
   ],
   "source": [
    "sns.distplot(booksen[\"average_rating\"])"
   ]
  },
  {
   "cell_type": "code",
   "execution_count": 203,
   "id": "4187f798",
   "metadata": {},
   "outputs": [
    {
     "data": {
      "text/plain": [
       "<seaborn.axisgrid.FacetGrid at 0x1a38d97b340>"
      ]
     },
     "execution_count": 203,
     "metadata": {},
     "output_type": "execute_result"
    },
    {
     "data": {
      "image/png": "[encoded data removed]",
      "text/plain": [
       "<Figure size 1150.55x360 with 1 Axes>"
      ]
     },
     "metadata": {},
     "output_type": "display_data"
    }
   ],
   "source": [
    "sns.lmplot(x=\"average_rating\", y=\"text_reviews_count\", data=bookcut, hue = \"avg_ratings\", palette=\"Set1\",\n",
    "           x_jitter=False, y_jitter=False,aspect=3, fit_reg=False, markers=\".\",\n",
    "          )"
   ]
  },
  {
   "cell_type": "markdown",
   "id": "02f3ed71",
   "metadata": {},
   "source": [
    "## Books with an average rating just above the average average rating (3.9) have a greater likelihood of high review count."
   ]
  },
  {
   "cell_type": "code",
   "execution_count": null,
   "id": "5c1986ea",
   "metadata": {},
   "outputs": [],
   "source": []
  }
 ],
 "metadata": {
  "kernelspec": {
   "display_name": "Python 3",
   "language": "python",
   "name": "python3"
  },
  "language_info": {
   "codemirror_mode": {
    "name": "ipython",
    "version": 3
   },
   "file_extension": ".py",
   "mimetype": "text/x-python",
   "name": "python",
   "nbconvert_exporter": "python",
   "pygments_lexer": "ipython3",
   "version": "3.8.8"
  }
 },
 "nbformat": 4,
 "nbformat_minor": 5
}
